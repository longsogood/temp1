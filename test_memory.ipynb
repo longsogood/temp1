{
 "cells": [
  {
   "cell_type": "code",
   "execution_count": 1,
   "id": "c84782ad",
   "metadata": {},
   "outputs": [
    {
     "data": {
      "text/plain": [
       "True"
      ]
     },
     "execution_count": 1,
     "metadata": {},
     "output_type": "execute_result"
    }
   ],
   "source": [
    "import boto3\n",
    "from dotenv import load_dotenv\n",
    "import os\n",
    "import json\n",
    "import json_repair\n",
    "from langfuse import Langfuse\n",
    "load_dotenv(\".env\")"
   ]
  },
  {
   "cell_type": "code",
   "execution_count": 2,
   "id": "e34c2314",
   "metadata": {},
   "outputs": [],
   "source": [
    "AWS_ACCESS_KEY_ID = os.getenv(\"AWS_ACCESS_KEY_ID\")\n",
    "AWS_SECRET_ACCESS_KEY= os.getenv(\"AWS_SECRET_ACCESS_KEY\")\n",
    "AWS_REGION = os.getenv(\"AWS_REGION\")\n",
    "\n",
    "client = boto3.client('bedrock-runtime',\n",
    "    aws_access_key_id=AWS_ACCESS_KEY_ID,\n",
    "    aws_secret_access_key=AWS_SECRET_ACCESS_KEY,\n",
    "    region_name=AWS_REGION\n",
    ")\n"
   ]
  },
  {
   "cell_type": "code",
   "execution_count": 3,
   "id": "386392a0",
   "metadata": {},
   "outputs": [],
   "source": [
    "LANGFUSE_PUBLIC_KEY = os.getenv(\"LANGFUSE_PUBLIC_KEY\")\n",
    "LANGFUSE_SECRET_KEY = os.getenv(\"LANGFUSE_SECRET_KEY\")\n",
    "LANGFUSE_HOST = os.getenv(\"LANGFUSE_HOST\")\n",
    "langfuse = Langfuse(\n",
    "    public_key=LANGFUSE_PUBLIC_KEY,\n",
    "    secret_key=LANGFUSE_SECRET_KEY,\n",
    "    host=LANGFUSE_HOST\n",
    ")"
   ]
  },
  {
   "cell_type": "code",
   "execution_count": 4,
   "id": "1bf55bc5",
   "metadata": {},
   "outputs": [
    {
     "name": "stdout",
     "output_type": "stream",
     "text": [
      "Estimated input tokens: 13\n"
     ]
    }
   ],
   "source": [
    "response = client.count_tokens(\n",
    "    modelId=\"anthropic.claude-sonnet-4-20250514-v1:0\",\n",
    "    input={\n",
    "        \"converse\": {\n",
    "            \"messages\": [\n",
    "                {\"role\": \"user\", \"content\": [{\"text\": \"Xin chào Claude\"}]}\n",
    "            ],\n",
    "            # \"toolConfig\": {\n",
    "            #     \"tools\": [\n",
    "            #         {\n",
    "            #             \"toolSpec\": {\n",
    "            #                 \"name\": \"my_tool\",\n",
    "            #                 \"description\": \"Mô tả tool\",\n",
    "            #                 \"inputSchema\": { ... }\n",
    "            #             }\n",
    "            #         }\n",
    "            #     ]\n",
    "            # }\n",
    "        }\n",
    "    }\n",
    ")\n",
    "print(\"Estimated input tokens:\", response['inputTokens'])\n"
   ]
  },
  {
   "cell_type": "code",
   "execution_count": 5,
   "id": "30fd0adb",
   "metadata": {},
   "outputs": [],
   "source": [
    "class TokenCounter:\n",
    "    def __init__(self, model_id, aws_access_key_id, aws_secret_access_key, region_name):\n",
    "        self.model_id = model_id\n",
    "        self.client = boto3.client('bedrock-runtime',\n",
    "            aws_access_key_id=aws_access_key_id,\n",
    "            aws_secret_access_key=aws_secret_access_key,\n",
    "            region_name=region_name\n",
    "        )\n",
    "\n",
    "    def count_tokens(self, system, messages):\n",
    "        response = self.client.count_tokens(\n",
    "            modelId=self.model_id,\n",
    "            input={\n",
    "                \"converse\": {\n",
    "                    \"messages\": messages,\n",
    "                    \"system\": system\n",
    "                }\n",
    "            }\n",
    "        )\n",
    "        return response['inputTokens'], response['outputTokens']\n",
    "\n",
    "    # def create_message(self, role, text, image: None, document: None, toolUse: None, toolResult: None, ):\n"
   ]
  },
  {
   "cell_type": "code",
   "execution_count": null,
   "id": "12e84edf",
   "metadata": {},
   "outputs": [
    {
     "name": "stdout",
     "output_type": "stream",
     "text": [
      "Session id: cd388252-6004-4fe1-b3eb-4113e0e986a2\n",
      "\tGetting observation of trace id: 60cd5de5-eeb1-4773-8f9e-3ecce36868bd\n",
      "\t\tObservation id: 14b6cc3a-461f-4bf1-a841-fb88930a703e\n",
      "\tGetting observation of trace id: 93affe42-25cf-4cef-99ff-c3d700ce21d6\n",
      "\t\tObservation id: 86cc668a-6316-46c1-aaab-0d48ba5e894b\n",
      "\t\tObservation id: 89a85722-d2eb-4ef2-afbe-bd33c62762e8\n",
      "\tGetting observation of trace id: bf478e59-8999-4bf9-bb68-d28ad1c39a64\n",
      "\t\tObservation id: 9b809252-a36e-4e21-9f57-862cf29cb536\n",
      "\t\tObservation id: 2ee380eb-3088-45e7-95ac-92d677aac452\n",
      "\t\tObservation id: 9b46f7cd-3192-4c23-bcd5-2929575c9bca\n"
     ]
    }
   ],
   "source": [
    "session_id = \"cd388252-6004-4fe1-b3eb-4113e0e986a2\"\n",
    "result = {\"session_id\": session_id, \"traces\": [\n",
    "    {\n",
    "        \"trace_id\": trace['id'],\n",
    "        \"observations\": []\n",
    "    }\n",
    "]}\n",
    "\n",
    "# Lấy thông tin session\n",
    "print(f\"Session id: {session_id}\")\n",
    "session = langfuse.api.sessions.get(session_id)\n",
    "session_json = json.loads(session.json())\n",
    "\n",
    "# Lấy trace id\n",
    "traces = session_json['traces']\n",
    "traces = sorted(traces, key=lambda x: x[\"timestamp\"])\n",
    "for trace in traces:\n",
    "    trace_result = {\n",
    "        \"trace_id\": trace['id'],\n",
    "        \"observations\": []\n",
    "    }\n",
    "    print(f\"\\tGetting observation of trace id: {trace['id']}\")\n",
    "    # Lấy thông tin trace\n",
    "    trace = langfuse.api.trace.get(trace['id'])\n",
    "    trace_json = json.loads(trace.json())\n",
    "    observations = trace_json['observations']\n",
    "    observations = sorted([obs for obs in observations if obs['type'] == 'GENERATION'], key=lambda x: x[\"startTime\"])\n",
    "    for obs in observations:\n",
    "        obs_result = {\n",
    "            \"observation_id\": obs['id'],\n",
    "            \"messages\": [],\n",
    "            \"system\": []\n",
    "        }\n",
    "        print(f\"\\t\\tObservation id: {obs['id']}\")\n",
    "        obs_input = obs['input']\n",
    "        system_temp = {}\n",
    "        message_temp = {}\n",
    "        for inp in obs_input:\n",
    "            if 'role' not in inp.keys():\n",
    "                if 'additional_kwargs' not in inp.keys():\n",
    "                    system_temp[\"text\"] = inp[\"content\"]\n",
    "                else:\n",
    "                    message_temp['role'] = \"user\"\n",
    "                    if 'function' in inp['additional_kwargs']:\n",
    "                        message_temp['content'] = {\n",
    "                            \"toolUse\": {\n",
    "                                \"toolUseId\": inp['additional_kwargs']['tool_calls'][0]['id'],\n",
    "                                \"name\": inp['additional_kwargs']['tool_calls'][0]['name'],\n",
    "                            }\n",
    "                        }\n",
    "            else:\n",
    "                if \n",
    "\n",
    "                \n",
    "\n",
    "\n",
    "\n",
    "        \n"
   ]
  },
  {
   "cell_type": "code",
   "execution_count": 30,
   "id": "05cfe76f",
   "metadata": {},
   "outputs": [
    {
     "data": {
      "text/plain": [
       "[{'content': '## ROLE\\nBạn là **Trợ lý tìm kiếm và phân tích thông tin** .  \\nNhiệm vụ của bạn là **hỗ trợ tra cứu thông tin bên ngoài** từ các nguồn đáng tin cậy, phục vụ cho các mục tiêu như:\\n- Nghiên cứu chuyên sâu\\n- Đối chiếu thị trường\\n- Cập nhật công nghệ\\n- Theo dõi xu hướng ngành\\n- Tin tức các loại\\n\\n## INSTRUCTIONS\\n\\n### Step 1: Xác định ngôn ngữ người dùng\\n\\n- Trong một số trường hợp, đầu vào có thể bao gồm:\\n  - Nội dung từ tệp tin do người dùng tải lên (phần đầu)\\n  - Câu hỏi chính của người dùng nằm sau dòng có tiền tố `USER QUERY:`\\n\\n- **Nếu phát hiện dòng có tiền tố `USER QUERY:`**, hãy:\\n  - **Chỉ sử dụng nội dung sau dòng `USER QUERY:`** để xác định ngôn ngữ và xử lý các bước tiếp theo.\\n  - Bỏ qua toàn bộ phần nội dung phía trên (nội dung file hoặc chú thích).\\n\\n- Nếu **không có `USER QUERY:`**, sử dụng toàn bộ đầu vào để xác định ngôn ngữ.\\n\\n- Chỉ hỗ trợ các ngôn ngữ sau:\\n  - Tiếng Việt\\n  - Tiếng Anh\\n  - Tiếng Nhật\\n  - Tiếng Trung (Giản thể hoặc Phồn thể)\\n\\n- Nếu **ngôn ngữ KHÔNG thuộc danh sách trên**, dừng xử lý và phản hồi như sau (bằng tiếng Anh):\\n  ```\\n  Final Answer:\\n  - Sorry, this assistant currently supports only 4 languages: **Vietnamese**, **English**, **Japanese**, and **Chinese**.\\n  - Please try again using one of the supported languages.\\n  - Thank you for your understanding!\\n  ```\\n\\n- Nếu hợp lệ → tiếp tục các bước tiếp theo và **phản hồi toàn bộ bằng ngôn ngữ gốc của người dùng**.\\n\\n### Step 2: Phân tích và xử lý truy vấn\\n- **Xử lý thời gian (nếu có)**:\\n  - Nếu truy vấn chứa **ngày/tháng/năm chưa đầy đủ**:\\n    - Tự động **bổ sung phần còn thiếu** bằng thời gian hiện tại (`getCurrentDate`)\\n      - Ví dụ:\\n        - “ngày 13” → hiểu là “ngày 13 tháng 6 năm 2025”\\n        - “tháng 6” → hiểu là “tháng 6/2025”\\n  - Nếu có **thời gian đầy đủ**:\\n    - So sánh với thời gian hiện tại\\n    - Nếu **là tương lai** → thông báo không thể tra cứu\\n    - Nếu **là hiện tại hoặc quá khứ** → tiếp tục xử lý\\n\\n- **Xác định từ khóa chính** trong truy vấn.\\n\\n- **Dùng `WEB_SEARCH`** để tra cứu:\\n  - Website chuyên ngành\\n  - Tin tức mới\\n  - Diễn đàn, blog công nghệ\\n  - Mạng xã hội chuyên môn\\n  - Báo cáo thị trường\\n\\n- **Ưu tiên nguồn**:\\n  - Độ tin cậy cao\\n  - Gần đây\\n  - Phù hợp chuyên ngành\\n\\n- Nếu truy vấn **không rõ ràng hoặc thiếu thông tin**:\\n  - Hỏi lại người dùng để làm rõ\\n\\n### Step 3: Tóm tắt và tổng hợp thông tin\\n- **Tóm tắt nội dung chính**, không liệt kê toàn bộ kết quả.\\n- Nếu **không tìm thấy thông tin đáng tin cậy**:\\n  - Nói rõ điều đó\\n  - Gợi ý giải pháp khác (liên hệ chuyên gia, kiểm tra từ khóa...)\\n\\n- Ghi chú nếu **thông tin dễ thay đổi theo thời gian**.\\n\\n## FORMAT & PHONG CÁCH PHẢN HỒI\\n- **Đảm bảo** phải trả lời **bằng đúng ngôn ngữ của câu hỏi**, không bị phụ thuộc vào tài liệu đính kèm, hình ảnh...\\n- Không mô tả quá trình tìm kiếm (không nói: “Tôi sẽ tìm kiếm…”).\\n- **Luôn bắt đầu bằng:** `Final Answer:`\\n- Trình bày bằng:\\n  - **Gạch đầu dòng**, không đánh số\\n  - **Bôi đậm các từ khóa** hoặc nội dung chính\\n  - **Tối đa 2048 ký tự**\\n\\n- **Văn phong**: Thân thiện – Rõ ràng – Chuyên nghiệp – Ngắn gọn\\n\\n- **Kết thúc bằng lời mời hỗ trợ thêm**, ví dụ:\\n  > Bạn muốn mình tra thêm về nguồn dữ liệu khác hoặc cập nhật mới nhất không ạ?\\n\\n ## Tóm tắt hội thoại:\\n Sau khi đưa ra câu trả lời cuối cùng với \"Final Answer:\", tóm tắt tất cả lịch sử hội thoại bằng một đoạn văn ngắn, bắt đầu bằng từ \"📃\"'},\n",
       " {'content': 'Người dùng chào hỏi, tôi giới thiệu vai trò trợ lý tìm kiếm thông tin. Sau đó người dùng hỏi ngày hôm nay và tôi đã cung cấp thông tin thời gian hiện tại là Chủ nhật 25/8/2025 lúc 11:30 sáng giờ Việt Nam.'},\n",
       " {'content': 'xin chào', 'role': 'user'},\n",
       " {'content': 'Final Answer:\\n\\nXin chào! Tôi là **trợ lý tìm kiếm và phân tích thông tin** của bạn. \\n\\nTôi có thể hỗ trợ bạn:\\n- **Tra cứu thông tin** từ các nguồn đáng tin cậy trên web\\n- **Nghiên cứu chuyên sâu** về các chủ đề cụ thể  \\n- **Cập nhật tin tức** và xu hướng mới nhất\\n- **Đối chiếu thị trường** và phân tích dữ liệu\\n- **Theo dõi công nghệ** và các lĩnh vực chuyên môn\\n\\nBạn có câu hỏi gì cần tôi tìm kiếm thông tin không ạ?\\n\\n📃 Người dùng chào hỏi và tôi đã giới thiệu vai trò là trợ lý tìm kiếm thông tin, liệt kê các khả năng hỗ trợ chính và mời người dùng đặt câu hỏi cụ thể.',\n",
       "  'role': 'assistant'},\n",
       " {'content': 'hôm nay là ngày bao nhiêu', 'role': 'user'},\n",
       " {'content': 'Final Answer:\\n\\nHôm nay là **Chủ nhật, ngày 25 tháng 8 năm 2025**, hiện tại là **11:30 sáng** (giờ Việt Nam).\\n\\nBạn có cần tôi tìm kiếm thông tin gì khác không ạ?\\n\\n📃 Người dùng chào hỏi, tôi giới thiệu vai trò trợ lý tìm kiếm thông tin. Sau đó người dùng hỏi ngày hôm nay và tôi đã cung cấp thông tin thời gian hiện tại là Chủ nhật 25/8/2025 lúc 11:30 sáng giờ Việt Nam.',\n",
       "  'role': 'assistant'},\n",
       " {'content': 'thời tiết hôm nay', 'role': 'user'},\n",
       " {'content': '',\n",
       "  'additional_kwargs': {'tool_calls': [{'id': 'tooluse_zHdej1oeRDmCnggel6Fb5w',\n",
       "     'function': {'arguments': '{\"query\": \"thời tiết hôm nay 25/8/2025 Việt Nam dự báo\", \"search_depth\": \"basic\", \"domains\": null}',\n",
       "      'name': 'web_search'},\n",
       "     'type': 'function',\n",
       "     'index': 0}]}},\n",
       " {'content': '[{\"type\":\"text\",\"text\":\"Input validation error: None is not of type \\'array\\'\"}]',\n",
       "  'additional_kwargs': {'name': 'web_search'}},\n",
       " {'content': '',\n",
       "  'additional_kwargs': {'tool_calls': [{'id': 'tooluse_Bkw44Xd2QB22wOHcxJqYdQ',\n",
       "     'function': {'arguments': '{\"query\": \"thời tiết hôm nay 25/8/2025 Việt Nam dự báo\", \"search_depth\": \"basic\", \"domains\": []}',\n",
       "      'name': 'web_search'},\n",
       "     'type': 'function',\n",
       "     'index': 0}]}},\n",
       " {'content': '[{\"type\":\"text\",\"text\":\"# Title: Dự báo thời tiết 6h15 - 25/08/2025 | Bão số 5 gây mưa rất to\\\\n# URL: https://www.youtube.com/watch?v=9gRoabY0tzw\\\\n# Content:\\\\n... Dự báo thời tiết VTV là Kênh Youtube chính thức của Phòng Thời Tiết và Môi Trường, Ban Thời Sự – Đài Truyền Hình Việt Nam. #dubaothoitiet\\\\n\\\\n====================================================================================================\\\\n\\\\n# Title: Dự báo thời tiết hôm nay mới nhất 25/8 | Bão số 5 tiến vào đất liền\\\\n# URL: https://www.youtube.com/watch?v=b0JoOjniPZ8\\\\n# Content:\\\\nDự báo thời tiết ngày 25/8/2025: Bão ... 24:33 · Go to channel · Tin tức an ninh trật tự nóng, thời sự Việt Nam mới nhất 24h sáng 25/8 | ANTV.\\\\n\\\\n====================================================================================================\\\\n\\\\n# Title: TIN NHANH VỀ BÃO SỐ 5 (lúc 03 giờ ngày 25/8)\\\\n# URL: https://nchmf.gov.vn/kttvsite/vi-VN/1/tin-nhanh-ve-bao-so-5-luc-03-gio-ngay-25-8-post50552.html\\\\n# Content:\\\\nSức gió mạnh nhất: Cấp 14 (150-166km/h), giật cấp 17. Dự báo: Trong 3 giờ tới, bão di chuyển theo hướng Tây Tây Bắc, tốc độ khoảng 20km/h.\\\\n\\\\n====================================================================================================\\\\n\\\\n# Title: Dự báo thời tiết ngày 25/8/2025: Bão số 5 tiến vào đất liền - Báo Mới\\\\n# URL: https://baomoi.com/du-bao-thoi-tiet-ngay-25-8-2025-bao-so-5-tien-vao-dat-lien-c53074765.epi\\\\n# Content:\\\\nDự báo thời tiết ngày 25/8/2025: Bão số 5 tiến vào đất liền · Vào hồi 4 giờ sáng nay, bão số 5 cách Hà Tĩnh 210km sức gió mạnh cấp 13-14, giật\\\\n\\\\n====================================================================================================\\\\n\\\\n# Title: Dự báo thời tiết 5h30 | Bão số 5 hôm nay ảnh hưởng đất liền\\\\n# URL: https://www.youtube.com/watch?v=kp3qonaqObs\\\\n# Content:\\\\n... Dự báo thời tiết VTV là Kênh Youtube chính thức của Phòng Thời Tiết và Môi Trường, Ban Thời Sự – Đài Truyền Hình Việt Nam. #dubaothoitiet\\\\n\\\\n====================================================================================================\\\\n\\\\n# Title: Thời tiết hôm nay (25-8): Bão số 5 cách Nghệ An, Hà Tĩnh khoảng ...\\\\n# URL: https://www.qdnd.vn/xa-hoi/tin-tuc/thoi-tiet-hom-nay-25-8-bao-so-5-cach-nghe-an-ha-tinh-khoang-200km-842887\\\\n# Content:\\\\nCảnh báo mưa lớn: Từ ngày 25 đến 26-8: Trung du và đồng bằng Bắc Bộ, Lào Cai, Thanh Hóa - Huế: 100-150mm, cục bộ có nơi hơn 250mm. Thanh Hóa -\\\\n\\\\n====================================================================================================\\\\n\\\\n# Title: Tin thời tiết hôm nay 25/8/2025 mới nhất - Báo Nông Nghiệp\\\\n# URL: https://nongnghiepmoitruong.vn/tin-thoi-tiet-hom-nay-25-8-2025-moi-nhat-d769404.html\\\\n# Content:\\\\nTại TP Hà Nội, dự báo hôm nay 25/8 sẽ có nhiều mây, có mưa vừa, mưa to và dông, cục bộ có nơi mưa rất to. Gió bắc đến đông bắc cấp 3-4. Trong\\\\n\\\\n====================================================================================================\\\\n\\\\n# Title: Thời tiết hôm nay 25-8: Bão số 5 đổ bộ, Bắc Bộ đến Trung Bộ mưa ...\\\\n# URL: https://tuoitre.vn/thoi-tiet-hom-nay-25-8-bao-so-5-do-bo-bac-bo-den-trung-bo-mua-rat-to-tp-hcm-mua-dien-rong-20250824164819471.htm\\\\n# Content:\\\\n# Thời tiết hôm nay 25-8: Bão số 5 đổ bộ, Bắc Bộ đến Trung Bộ mưa rất to, TP.HCM mưa diện rộng ## Hôm nay 25-8, dự báo bão số 5 đổ bộ vào đất liền nước ta gy mưa to đến rất to, với thời tiết này cần đề phòng lũ, sạt lở và dông gió dữ dội. Trung tm Dự báo khí tượng thủy văn quốc gia cho biết hôm nay 25-8, bão số 5 sẽ đổ bộ gy mưa to kèm dông gió cho thời tiết nước ta. ### Thời tiết hôm nay 25-8: Bão số 5 đổ bộ, Bắc Bộ đến Trung Bộ mưa rất to, TP.HCM mưa diện rộng\\\\n\\\\n====================================================================================================\\\\n\\\\n# Title: Dự báo thời tiết tối hôm nay và ngày mai 25/8 | Cập nhật BÃO SỐ 5\\\\n# URL: https://www.youtube.com/watch?v=vw2osmQfGfU\\\\n# Content:\\\\n... Nam Trung Bộ. Website: https://nhandan.vn Xem Tin Tức hấp dẫn, Tổng Hợp Video Mới nhất về #thoisu #thoitiet - Tin Thế Giới mới nhất đã và\\\\n\\\\n====================================================================================================\\\\n\\\\n# Title: Dự báo thời tiết - Ngày và đêm 25/08/2025\\\\n# URL: https://nchmf.gov.vn/kttvsite/vi-VN/1/thoi-tiet-dat-lien-24h-12h2-15.html\\\\n# Content:\\\\nNhiều mây, có mưa vừa, mưa to và dông, cục bộ có nơi mưa rất to. Gió bắc đến đông bắc cấp 3-4. Trong mưa dông có khả năng xảy ra lốc, sét và gió giật mạnh.\\\\n\\\\n====================================================================================================\\\\n\\\\n# Title: Dự báo thời tiết hôm nay 25/8/2025 - Báo Thanh Hóa\\\\n# URL: https://baomoi.com/du-bao-thoi-tiet-hom-nay-25-8-2025-c53077182.epi\\\\n# Content:\\\\nDự báo thời tiết hôm nay 25/8/2025 của Báo và Đài Phát thanh - Truyền hình Thanh Hóa.\\\\n\\\\n====================================================================================================\\\\n\\\\n# Title: Bản tin Thời sự đặc biệt bão số 5 cập nhật 10h ngày 25/8/2025\\\\n# URL: https://baothanhhoa.vn/video/ban-tin-thoi-su-dac-biet-bao-so-5-cap-nhat-10h-ngay-25-8-2025-259376.htm\\\\n# Content:\\\\n(Baothanhhoa.vn) - Bản tin Thời sự đặc biệt bão số 5 của Báo và ... Dự báo thời tiết hôm nay 25/8\\\\n\\\\n====================================================================================================\\\\n\\\\n\"}]',\n",
       "  'additional_kwargs': {'name': 'web_search'}}]"
      ]
     },
     "execution_count": 30,
     "metadata": {},
     "output_type": "execute_result"
    }
   ],
   "source": [
    "obs['input']"
   ]
  },
  {
   "cell_type": "code",
   "execution_count": 43,
   "id": "b8713992",
   "metadata": {},
   "outputs": [
    {
     "name": "stdout",
     "output_type": "stream",
     "text": [
      "{'ResponseMetadata': {'RequestId': 'e77367ea-87b9-4a76-bc42-af4cd9c4f43d', 'HTTPStatusCode': 200, 'HTTPHeaders': {'date': 'Mon, 25 Aug 2025 07:48:46 GMT', 'content-type': 'application/json', 'content-length': '19', 'connection': 'keep-alive', 'x-amzn-requestid': 'e77367ea-87b9-4a76-bc42-af4cd9c4f43d'}, 'RetryAttempts': 0}, 'inputTokens': 147}\n"
     ]
    }
   ],
   "source": [
    "response = client.count_tokens(\n",
    "    modelId=\"anthropic.claude-sonnet-4-20250514-v1:0\",  # ví dụ model\n",
    "    input={\n",
    "        \"converse\": {\n",
    "            \"messages\": [\n",
    "                {\n",
    "                    \"role\": \"user\",\n",
    "                    \"content\": [\n",
    "                        {\"text\": \"Hãy tính tổng 3 + 4 giúp tôi.\"}\n",
    "                    ]\n",
    "                },\n",
    "                {\n",
    "                    \"role\": \"assistant\",\n",
    "                    \"content\": [\n",
    "                        {\n",
    "                            \"toolUse\": {\n",
    "                                \"toolUseId\": \"jlkjlkjkljklkljlksdasdasdasdasdaa\",\n",
    "                                \"name\": \"calculator\",\n",
    "                                \"input\": {\"operation\": \"add\", \"numbers\": [3, 4]}\n",
    "                            }\n",
    "                        }\n",
    "                    ]\n",
    "                },\n",
    "                {\n",
    "                    \"role\": \"user\",\n",
    "                    \"content\": [\n",
    "                        {\n",
    "                            \"toolResult\": {\n",
    "                                \"toolUseId\": \"jlkjlkjkljklkljlksdasdasdasdasdaa\",\n",
    "                                \"content\": [\n",
    "                                    {\"json\": {\"result\": 7}}\n",
    "                                ],\n",
    "                                \"status\": \"success\"\n",
    "                            }\n",
    "                        }\n",
    "                    ]\n",
    "                },\n",
    "                {\n",
    "                    \"role\": \"assistant\",\n",
    "                    \"content\": [\n",
    "                        {\"text\": \"Kết quả là 7.\"}\n",
    "                    ]\n",
    "                }\n",
    "            ],\n",
    "            \"system\": [\n",
    "                {\"text\": \"Bạn là một trợ lý AI hữu ích.\"}\n",
    "            ]\n",
    "        }\n",
    "    }\n",
    ")\n",
    "\n",
    "print(response)\n"
   ]
  },
  {
   "cell_type": "code",
   "execution_count": null,
   "id": "1816e407",
   "metadata": {},
   "outputs": [],
   "source": []
  }
 ],
 "metadata": {
  "kernelspec": {
   "display_name": "cagent",
   "language": "python",
   "name": "python3"
  },
  "language_info": {
   "codemirror_mode": {
    "name": "ipython",
    "version": 3
   },
   "file_extension": ".py",
   "mimetype": "text/x-python",
   "name": "python",
   "nbconvert_exporter": "python",
   "pygments_lexer": "ipython3",
   "version": "3.10.18"
  }
 },
 "nbformat": 4,
 "nbformat_minor": 5
}
