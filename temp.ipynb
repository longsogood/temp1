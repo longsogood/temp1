{
 "cells": [
  {
   "cell_type": "code",
   "execution_count": 6,
   "metadata": {},
   "outputs": [
    {
     "data": {
      "text/plain": [
       "True"
      ]
     },
     "execution_count": 6,
     "metadata": {},
     "output_type": "execute_result"
    }
   ],
   "source": [
    "import pickle\n",
    "import json\n",
    "import pandas as pd\n",
    "import requests\n",
    "from dotenv import load_dotenv\n",
    "import os\n",
    "from langfuse import Langfuse\n",
    "\n",
    "load_dotenv(\".env\")"
   ]
  },
  {
   "cell_type": "code",
   "execution_count": 47,
   "metadata": {},
   "outputs": [
    {
     "data": {
      "text/html": [
       "<div>\n",
       "<style scoped>\n",
       "    .dataframe tbody tr th:only-of-type {\n",
       "        vertical-align: middle;\n",
       "    }\n",
       "\n",
       "    .dataframe tbody tr th {\n",
       "        vertical-align: top;\n",
       "    }\n",
       "\n",
       "    .dataframe thead th {\n",
       "        text-align: right;\n",
       "    }\n",
       "</style>\n",
       "<table border=\"1\" class=\"dataframe\">\n",
       "  <thead>\n",
       "    <tr style=\"text-align: right;\">\n",
       "      <th></th>\n",
       "      <th>Câu hỏi</th>\n",
       "      <th>Câu trả lời dự kiến</th>\n",
       "      <th>Tham chiếu</th>\n",
       "    </tr>\n",
       "  </thead>\n",
       "  <tbody>\n",
       "    <tr>\n",
       "      <th>0</th>\n",
       "      <td>Tôi muốn hỏi về chính sách thâm niên của công ...</td>\n",
       "      <td>Thâm niên được tính từ thời điểm ký HĐLĐ chính...</td>\n",
       "      <td>NaN</td>\n",
       "    </tr>\n",
       "    <tr>\n",
       "      <th>1</th>\n",
       "      <td>Vậy làm việc bao nhiêu năm thì sẽ được giải th...</td>\n",
       "      <td>CTS áp dụng chính sách 5 năm, có tính thời gia...</td>\n",
       "      <td>NaN</td>\n",
       "    </tr>\n",
       "    <tr>\n",
       "      <th>2</th>\n",
       "      <td>Tôi hiện tại đang làm việc tại một dự án khách...</td>\n",
       "      <td>Dựa theo chính sách mới thì từ ngày 26/08/2025...</td>\n",
       "      <td>NaN</td>\n",
       "    </tr>\n",
       "    <tr>\n",
       "      <th>3</th>\n",
       "      <td>Tôi là nhân viên kinh doanh, được phép đi muộn...</td>\n",
       "      <td>Cán bộ kinh doanh được tổng cộng 10 lần đi muộ...</td>\n",
       "      <td>NaN</td>\n",
       "    </tr>\n",
       "    <tr>\n",
       "      <th>4</th>\n",
       "      <td>Chu kỳ đánh giá công việc tháng diễn ra khi nào?</td>\n",
       "      <td>Chu kỳ đánh giá công việc tháng được thực hiện...</td>\n",
       "      <td>NaN</td>\n",
       "    </tr>\n",
       "  </tbody>\n",
       "</table>\n",
       "</div>"
      ],
      "text/plain": [
       "                                             Câu hỏi  \\\n",
       "0  Tôi muốn hỏi về chính sách thâm niên của công ...   \n",
       "1  Vậy làm việc bao nhiêu năm thì sẽ được giải th...   \n",
       "2  Tôi hiện tại đang làm việc tại một dự án khách...   \n",
       "3  Tôi là nhân viên kinh doanh, được phép đi muộn...   \n",
       "4   Chu kỳ đánh giá công việc tháng diễn ra khi nào?   \n",
       "\n",
       "                                 Câu trả lời dự kiến Tham chiếu  \n",
       "0  Thâm niên được tính từ thời điểm ký HĐLĐ chính...        NaN  \n",
       "1  CTS áp dụng chính sách 5 năm, có tính thời gia...        NaN  \n",
       "2  Dựa theo chính sách mới thì từ ngày 26/08/2025...        NaN  \n",
       "3  Cán bộ kinh doanh được tổng cộng 10 lần đi muộ...        NaN  \n",
       "4  Chu kỳ đánh giá công việc tháng được thực hiện...        NaN  "
      ]
     },
     "execution_count": 47,
     "metadata": {},
     "output_type": "execute_result"
    }
   ],
   "source": [
    "df = pd.read_excel(\"QAs/Kịch bản chat Agent nội bộ.xlsx\")\n",
    "df.head()"
   ]
  },
  {
   "cell_type": "code",
   "execution_count": 48,
   "metadata": {},
   "outputs": [],
   "source": [
    "questions = df.iloc[:, 0].tolist()\n",
    "true_answers = df.iloc[:, 1].tolist()"
   ]
  },
  {
   "cell_type": "code",
   "execution_count": 9,
   "metadata": {},
   "outputs": [],
   "source": [
    "LANGFUSE_PUBLIC_KEY = os.getenv(\"LANGFUSE_PUBLIC_KEY\")\n",
    "LANGFUSE_SECRET_KEY = os.getenv(\"LANGFUSE_SECRET_KEY\")\n",
    "LANGFUSE_HOST = os.getenv(\"LANGFUSE_HOST\")\n",
    "langfuse = Langfuse(\n",
    "    public_key=LANGFUSE_PUBLIC_KEY,\n",
    "    secret_key=LANGFUSE_SECRET_KEY,\n",
    "    host=LANGFUSE_HOST\n",
    ")"
   ]
  },
  {
   "cell_type": "code",
   "execution_count": 10,
   "metadata": {},
   "outputs": [],
   "source": [
    "def get_traces_data(session_id: str):\n",
    "    traces = langfuse.api.trace.list(session_id=session_id)\n",
    "    traces_data = traces.data[::-1]\n",
    "    return traces_data\n",
    "\n",
    "def get_observations(trace_id):\n",
    "    observations = json.loads(langfuse.api.trace.get(trace_id).json())[\"observations\"]\n",
    "    generation_observations = [obs if obs[\"type\"] == \"GENERATION\" else None for obs in observations]\n",
    "    generation_observations = list(filter(lambda x: x is not None, generation_observations))\n",
    "    return generation_observations\n",
    "\n",
    "def get_tokens_usage_per_trace(observations):\n",
    "    input_tokens = 0\n",
    "    output_tokens = 0\n",
    "    for obs in observations:\n",
    "        input_tokens += obs[\"usage\"][\"input\"]\n",
    "        output_tokens += obs[\"usage\"][\"output\"]\n",
    "    return {\n",
    "        \"input_tokens\": input_tokens,\n",
    "        \"output_tokens\": output_tokens\n",
    "    }\n",
    "\n",
    "def get_tokens_usage_per_session(session_id):\n",
    "    traces = get_traces_data(session_id)\n",
    "    tokens_usage = {}\n",
    "    for id, trace in enumerate(traces):\n",
    "        observations = get_observations(trace.id)\n",
    "        tokens_usage_per_trace = get_tokens_usage_per_trace(observations)\n",
    "        tokens_usage_per_trace.update({\"id\": trace.id})\n",
    "        tokens_usage[f\"Trace {id}\"] = tokens_usage_per_trace\n",
    "    return tokens_usage\n",
    "    "
   ]
  },
  {
   "cell_type": "code",
   "execution_count": 11,
   "metadata": {},
   "outputs": [],
   "source": [
    "zep_session_id = \"5a8e23c1-c3a7-4f5b-aff9-269fcc3f9764\"\n",
    "default_session_id = \"8ec03156-f766-49a2-84f6-f96d0d9d64a3\""
   ]
  },
  {
   "cell_type": "code",
   "execution_count": 29,
   "metadata": {},
   "outputs": [],
   "source": [
    "zep_traces_data = get_traces_data(zep_session_id)\n",
    "default_traces_data = get_traces_data(default_session_id)"
   ]
  },
  {
   "cell_type": "code",
   "execution_count": 78,
   "metadata": {},
   "outputs": [
    {
     "name": "stdout",
     "output_type": "stream",
     "text": [
      "{'returnValues': {'output': '**Observation:** Sau khi kiểm tra nghiêm ngặt ngữ cảnh của từng chunk, tôi chỉ sử dụng những thông tin có độ chính xác 100% và liên quan trực tiếp đến câu hỏi để đưa ra câu trả lời bao gồm: Thông tin về thời hạn báo trước nghỉ việc theo từng loại hợp đồng từ file CTS_QT_03.\\n\\nKhi bạn muốn nghỉ việc tại CMC TS, **thời gian báo trước** phụ thuộc vào **loại hợp đồng lao động** bạn đang có:\\n\\n### Thời hạn báo trước theo loại hợp đồng:\\n\\n**Hợp đồng thử việc (HĐTV):**\\n- **Trước 03 ngày làm việc**\\n\\n**Hợp đồng lao động xác định thời hạn:**\\n- **Trước 30 ngày**\\n\\n**Hợp đồng lao động không xác định thời hạn:**\\n- **Trước 45 ngày**\\n\\n### Quy trình nghỉ việc:\\n\\n**Tạo đơn trên hệ thống:**\\n- Thực hiện tại mục **\"Xin nghỉ việc/Seperation request\"** trên hệ thống **SF4C**\\n- Điền đầy đủ thông tin và **tuân thủ thời hạn báo trước**\\n\\n**Quy trình phê duyệt:**\\n- **HĐTV**: Phê duyệt trong vòng **4 giờ làm việc** ở mỗi cấp\\n- **HĐLĐ**: Phê duyệt trong vòng **2 ngày làm việc** ở mỗi cấp\\n\\n### Lưu ý quan trọng:\\n\\n- Nếu **không tuân thủ thời hạn báo trước**, quản lý có quyền **từ chối không duyệt**\\n- Sau khi được phê duyệt, **bộ phận HR sẽ khởi tạo kế hoạch bàn giao** công việc\\n- Trường hợp thay đổi ngày nghỉ việc sau khi nộp đơn, cần **liên hệ Chuyên viên Dịch vụ Nhân sự**'}, 'log': '**Observation:** Sau khi kiểm tra nghiêm ngặt ngữ cảnh của từng chunk, tôi chỉ sử dụng những thông tin có độ chính xác 100% và liên quan trực tiếp đến câu hỏi để đưa ra câu trả lời bao gồm: Thông tin về thời hạn báo trước nghỉ việc theo từng loại hợp đồng từ file CTS_QT_03.\\n\\nKhi bạn muốn nghỉ việc tại CMC TS, **thời gian báo trước** phụ thuộc vào **loại hợp đồng lao động** bạn đang có:\\n\\n### Thời hạn báo trước theo loại hợp đồng:\\n\\n**Hợp đồng thử việc (HĐTV):**\\n- **Trước 03 ngày làm việc**\\n\\n**Hợp đồng lao động xác định thời hạn:**\\n- **Trước 30 ngày**\\n\\n**Hợp đồng lao động không xác định thời hạn:**\\n- **Trước 45 ngày**\\n\\n### Quy trình nghỉ việc:\\n\\n**Tạo đơn trên hệ thống:**\\n- Thực hiện tại mục **\"Xin nghỉ việc/Seperation request\"** trên hệ thống **SF4C**\\n- Điền đầy đủ thông tin và **tuân thủ thời hạn báo trước**\\n\\n**Quy trình phê duyệt:**\\n- **HĐTV**: Phê duyệt trong vòng **4 giờ làm việc** ở mỗi cấp\\n- **HĐLĐ**: Phê duyệt trong vòng **2 ngày làm việc** ở mỗi cấp\\n\\n### Lưu ý quan trọng:\\n\\n- Nếu **không tuân thủ thời hạn báo trước**, quản lý có quyền **từ chối không duyệt**\\n- Sau khi được phê duyệt, **bộ phận HR sẽ khởi tạo kế hoạch bàn giao** công việc\\n- Trường hợp thay đổi ngày nghỉ việc sau khi nộp đơn, cần **liên hệ Chuyên viên Dịch vụ Nhân sự**'}\n",
      "{'returnValues': {'output': '**Observation:** Sau khi kiểm tra nghiêm ngặt ngữ cảnh của từng chunk, tôi chỉ sử dụng những thông tin có độ chính xác 100% và liên quan trực tiếp đến câu hỏi để đưa ra câu trả lời bao gồm: Quy định đi muộn cho nhân viên kinh doanh từ file CTS_NQ_01 về nội quy lao động.\\n\\nDựa trên quy định của CMC TS, **nhân viên kinh doanh** có những ưu đãi đặc biệt về đi muộn/về sớm:\\n\\n### Quy định đi muộn cho Nhân viên Kinh doanh:\\n\\n**Được phép tổng cộng 10 lần/tháng:**\\n- **5 lần** đi muộn/về sớm **≤ 15 phút/lần** (không trừ công)\\n- **5 lần** đi muộn/về sớm **≤ 2 giờ/lần** (có ưu đãi riêng)\\n\\n**So sánh với nhân viên thông thường:**\\n- Nhân viên thông thường: **Chỉ 5 lần/tháng** đi muộn ≤ 15 phút\\n\\n### Quy trình khi đi khách hàng:\\n\\n**Thông báo trước:**\\n- **Thông báo cho quản lý trực tiếp** trước khi đi muộn do đi khách hàng\\n\\n**Nếu không thể thông báo trước:**\\n- **Thông báo cho Trưởng bộ phận sớm nhất có thể**\\n- **Bổ sung đề nghị giải trình** ngay sau khi đi làm trở lại\\n- Nếu không thực hiện → **bị xem như đi muộn không lý do**\\n\\n### Giải trình trên hệ thống:\\n\\n- **Giải trình trên CMIS** trong vòng **02 ngày làm việc** kể từ ngày nghỉ\\n- Hoặc **hết ngày 26** của tháng đối với tuần cuối chu kỳ công\\n- **Phải cập nhật activity lên CRM** để được ghi nhận thời gian làm việc\\n\\n**Lưu ý:** Quy định này giúp nhân viên kinh doanh linh hoạt hơn trong việc hỗ trợ khách hàng mà vẫn đảm bảo kỷ luật lao động.'}, 'log': '**Observation:** Sau khi kiểm tra nghiêm ngặt ngữ cảnh của từng chunk, tôi chỉ sử dụng những thông tin có độ chính xác 100% và liên quan trực tiếp đến câu hỏi để đưa ra câu trả lời bao gồm: Quy định đi muộn cho nhân viên kinh doanh từ file CTS_NQ_01 về nội quy lao động.\\n\\nDựa trên quy định của CMC TS, **nhân viên kinh doanh** có những ưu đãi đặc biệt về đi muộn/về sớm:\\n\\n### Quy định đi muộn cho Nhân viên Kinh doanh:\\n\\n**Được phép tổng cộng 10 lần/tháng:**\\n- **5 lần** đi muộn/về sớm **≤ 15 phút/lần** (không trừ công)\\n- **5 lần** đi muộn/về sớm **≤ 2 giờ/lần** (có ưu đãi riêng)\\n\\n**So sánh với nhân viên thông thường:**\\n- Nhân viên thông thường: **Chỉ 5 lần/tháng** đi muộn ≤ 15 phút\\n\\n### Quy trình khi đi khách hàng:\\n\\n**Thông báo trước:**\\n- **Thông báo cho quản lý trực tiếp** trước khi đi muộn do đi khách hàng\\n\\n**Nếu không thể thông báo trước:**\\n- **Thông báo cho Trưởng bộ phận sớm nhất có thể**\\n- **Bổ sung đề nghị giải trình** ngay sau khi đi làm trở lại\\n- Nếu không thực hiện → **bị xem như đi muộn không lý do**\\n\\n### Giải trình trên hệ thống:\\n\\n- **Giải trình trên CMIS** trong vòng **02 ngày làm việc** kể từ ngày nghỉ\\n- Hoặc **hết ngày 26** của tháng đối với tuần cuối chu kỳ công\\n- **Phải cập nhật activity lên CRM** để được ghi nhận thời gian làm việc\\n\\n**Lưu ý:** Quy định này giúp nhân viên kinh doanh linh hoạt hơn trong việc hỗ trợ khách hàng mà vẫn đảm bảo kỷ luật lao động.'}\n"
     ]
    }
   ],
   "source": [
    "# zep_agent_answers = [json.loads(data.json())[\"output\"].get(\"output\") for data in zep_traces_data]\n",
    "# default_agent_answers = [json.loads(data.json())[\"output\"].get(\"output\") for data in default_traces_data]\n",
    "\n",
    "zep_agent_answers = []\n",
    "default_agent_answers = []\n",
    "\n",
    "for data in zep_traces_data:\n",
    "    output = json.loads(data.json())[\"output\"]\n",
    "    if output.get(\"output\"):\n",
    "        zep_agent_answers.append(output.get(\"output\"))\n",
    "    else:\n",
    "        print(output)\n",
    "        zep_agent_answers.append(output[\"returnValues\"].get(\"output\"))\n",
    "\n",
    "for data in default_traces_data:\n",
    "    output = json.loads(data.json())[\"output\"][\"cmcts_agent\"][\"messages\"][0][\"kwargs\"][\"content\"]\n",
    "    default_agent_answers.append(output)"
   ]
  },
  {
   "cell_type": "code",
   "execution_count": 34,
   "metadata": {},
   "outputs": [],
   "source": [
    "GENERAL_PURPOSE_API_URL = \"https://stock.cmcts.ai/c-agent/api/v1/prediction/a1514d8f-749c-4e01-b961-811e9346d83e\"\n",
    "\n",
    "def query(payload):\n",
    "    response = requests.post(GENERAL_PURPOSE_API_URL, json=payload)\n",
    "    return response.json()[\"text\"]"
   ]
  },
  {
   "cell_type": "code",
   "execution_count": 32,
   "metadata": {},
   "outputs": [],
   "source": [
    "from utils import extract_section"
   ]
  },
  {
   "cell_type": "code",
   "execution_count": 56,
   "metadata": {},
   "outputs": [
    {
     "name": "stdout",
     "output_type": "stream",
     "text": [
      "{\n",
      "  \"id\": \"d7074ef7-167b-4ae6-8935-4d15e69d29c7\",\n",
      "  \"timestamp\": \"2025-09-16T08:20:13.729000Z\",\n",
      "  \"name\": \"AgentExecutor\",\n",
      "  \"input\": {\n",
      "    \"input\": \"Nếu tôi muốn nghỉ việc, cần báo trước bao lâu?\"\n",
      "  },\n",
      "  \"output\": {\n",
      "    \"returnValues\": {\n",
      "      \"output\": \"**Observation:** Sau khi kiểm tra nghiêm ngặt ngữ cảnh của từng chunk, tôi chỉ sử dụng những thông tin có độ chính xác 100% và liên quan trực tiếp đến câu hỏi để đưa ra câu trả lời bao gồm: Thông tin về thời hạn báo trước nghỉ việc theo từng loại hợp đồng từ file CTS_QT_03.\\n\\nKhi bạn muốn nghỉ việc tại CMC TS, **thời gian báo trước** phụ thuộc vào **loại hợp đồng lao động** bạn đang có:\\n\\n### Thời hạn báo trước theo loại hợp đồng:\\n\\n**Hợp đồng thử việc (HĐTV):**\\n- **Trước 03 ngày làm việc**\\n\\n**Hợp đồng lao động xác định thời hạn:**\\n- **Trước 30 ngày**\\n\\n**Hợp đồng lao động không xác định thời hạn:**\\n- **Trước 45 ngày**\\n\\n### Quy trình nghỉ việc:\\n\\n**Tạo đơn trên hệ thống:**\\n- Thực hiện tại mục **\\\"Xin nghỉ việc/Seperation request\\\"** trên hệ thống **SF4C**\\n- Điền đầy đủ thông tin và **tuân thủ thời hạn báo trước**\\n\\n**Quy trình phê duyệt:**\\n- **HĐTV**: Phê duyệt trong vòng **4 giờ làm việc** ở mỗi cấp\\n- **HĐLĐ**: Phê duyệt trong vòng **2 ngày làm việc** ở mỗi cấp\\n\\n### Lưu ý quan trọng:\\n\\n- Nếu **không tuân thủ thời hạn báo trước**, quản lý có quyền **từ chối không duyệt**\\n- Sau khi được phê duyệt, **bộ phận HR sẽ khởi tạo kế hoạch bàn giao** công việc\\n- Trường hợp thay đổi ngày nghỉ việc sau khi nộp đơn, cần **liên hệ Chuyên viên Dịch vụ Nhân sự**\"\n",
      "    },\n",
      "    \"log\": \"**Observation:** Sau khi kiểm tra nghiêm ngặt ngữ cảnh của từng chunk, tôi chỉ sử dụng những thông tin có độ chính xác 100% và liên quan trực tiếp đến câu hỏi để đưa ra câu trả lời bao gồm: Thông tin về thời hạn báo trước nghỉ việc theo từng loại hợp đồng từ file CTS_QT_03.\\n\\nKhi bạn muốn nghỉ việc tại CMC TS, **thời gian báo trước** phụ thuộc vào **loại hợp đồng lao động** bạn đang có:\\n\\n### Thời hạn báo trước theo loại hợp đồng:\\n\\n**Hợp đồng thử việc (HĐTV):**\\n- **Trước 03 ngày làm việc**\\n\\n**Hợp đồng lao động xác định thời hạn:**\\n- **Trước 30 ngày**\\n\\n**Hợp đồng lao động không xác định thời hạn:**\\n- **Trước 45 ngày**\\n\\n### Quy trình nghỉ việc:\\n\\n**Tạo đơn trên hệ thống:**\\n- Thực hiện tại mục **\\\"Xin nghỉ việc/Seperation request\\\"** trên hệ thống **SF4C**\\n- Điền đầy đủ thông tin và **tuân thủ thời hạn báo trước**\\n\\n**Quy trình phê duyệt:**\\n- **HĐTV**: Phê duyệt trong vòng **4 giờ làm việc** ở mỗi cấp\\n- **HĐLĐ**: Phê duyệt trong vòng **2 ngày làm việc** ở mỗi cấp\\n\\n### Lưu ý quan trọng:\\n\\n- Nếu **không tuân thủ thời hạn báo trước**, quản lý có quyền **từ chối không duyệt**\\n- Sau khi được phê duyệt, **bộ phận HR sẽ khởi tạo kế hoạch bàn giao** công việc\\n- Trường hợp thay đổi ngày nghỉ việc sau khi nộp đơn, cần **liên hệ Chuyên viên Dịch vụ Nhân sự**\"\n",
      "  },\n",
      "  \"sessionId\": \"5a8e23c1-c3a7-4f5b-aff9-269fcc3f9764\",\n",
      "  \"release\": null,\n",
      "  \"version\": null,\n",
      "  \"userId\": null,\n",
      "  \"metadata\": {\n",
      "    \"tags\": []\n",
      "  },\n",
      "  \"tags\": [],\n",
      "  \"public\": false,\n",
      "  \"environment\": \"default\",\n",
      "  \"htmlPath\": \"/project/cmeqkzdzi02zkad06aff22t3c/traces/d7074ef7-167b-4ae6-8935-4d15e69d29c7\",\n",
      "  \"latency\": 14.031,\n",
      "  \"totalCost\": 0.0,\n",
      "  \"observations\": [\n",
      "    \"d7074ef7-167b-4ae6-8935-4d15e69d29c7\",\n",
      "    \"a8de038c-1f21-40fb-80b9-7daf9f07e719\",\n",
      "    \"f9d608e7-7392-446f-9d4c-ec3670f2fe5e\",\n",
      "    \"8ed21b44-9e33-412a-8ab6-1bee809be774\",\n",
      "    \"fcd6bdbd-0304-4432-9309-df6c163bfc70\",\n",
      "    \"847d752a-a03b-4ca2-8ac1-42c199a4d343\",\n",
      "    \"ccd74a2a-0ed9-46f7-a349-b924cb93d226\",\n",
      "    \"19cd4492-dcca-4685-b1e0-c54c59f5ceb6\",\n",
      "    \"b8a31215-c694-4cbc-afc0-6547dbf4dca6\",\n",
      "    \"c6b9d9fb-3daa-4c27-9e51-a7968a3b19d7\",\n",
      "    \"9252bb16-49f4-4296-9726-b34299e67c1f\",\n",
      "    \"d42a8587-6806-4954-8edc-4fdd31e2104d\",\n",
      "    \"76b02252-5f56-45d5-bf2a-d5a4e5fc1275\",\n",
      "    \"71ebceb5-ecfc-4510-b2dc-68f7d2528d72\",\n",
      "    \"a9dd50bc-f4f9-4ab9-937c-aa6fb68792b7\",\n",
      "    \"68f8e5b5-ad76-4c04-a718-b63e9737516a\",\n",
      "    \"e91836f0-5f57-41fc-966b-abb86e37269d\",\n",
      "    \"fde7f08e-64f0-4e2b-bb3d-9c47b05d984a\"\n",
      "  ],\n",
      "  \"scores\": [],\n",
      "  \"externalId\": null,\n",
      "  \"projectId\": \"cmeqkzdzi02zkad06aff22t3c\",\n",
      "  \"bookmarked\": false,\n",
      "  \"updatedAt\": \"2025-09-16T08:20:43.180Z\",\n",
      "  \"createdAt\": \"2025-09-16T08:20:17.000Z\"\n",
      "}\n"
     ]
    }
   ],
   "source": [
    "print(json.dumps(json.loads(zep_traces_data[5].json()), indent=2, ensure_ascii=False))"
   ]
  },
  {
   "cell_type": "code",
   "execution_count": 33,
   "metadata": {},
   "outputs": [],
   "source": [
    "with open(\"prompts/evaluation/human_prompt.txt\", \"r\") as f:\n",
    "    evaluate_human_prompt_template = f.read().strip()\n",
    "\n",
    "with open(\"prompts/evaluation/system_prompt.txt\", \"r\") as f:\n",
    "    evaluate_system_prompt = f.read().strip()"
   ]
  },
  {
   "cell_type": "code",
   "execution_count": 80,
   "metadata": {},
   "outputs": [
    {
     "name": "stdout",
     "output_type": "stream",
     "text": [
      "JSON data:\n",
      "{'relevance': 10.0, 'accuracy': 10.0, 'completeness': 10.0, 'clarity': 10.0, 'tone': 10.0, 'comments': \"Relevance (10.0/10.0): Câu trả lời hoàn toàn phù hợp với câu hỏi về chính sách thâm niên. Agent đã trả lời đúng trọng tâm câu hỏi về thời điểm bắt đầu tính thâm niên.\\n\\nAccuracy (10.0/10.0): Thông tin trong câu trả lời của agent hoàn toàn chính xác và khớp với câu trả lời chuẩn. Agent đã nêu rõ 'thâm niên được tính từ thời điểm ký Hợp đồng lao động chính thức đầu tiên'.\\n\\nCompleteness (10.0/10.0): Câu trả lời không chỉ cung cấp thông tin cơ bản như câu trả lời chuẩn mà còn bổ sung nhiều thông tin hữu ích khác như: chi tiết về cách tính thâm niên, thời gian không được tính vào thâm niên, và ví dụ minh họa cụ thể. Những thông tin bổ sung này rất có giá trị cho người hỏi.\\n\\nClarity (10.0/10.0): Câu trả lời được trình bày rất rõ ràng, có cấu trúc logic với các đề mục và gạch đầu dòng, giúp người đọc dễ dàng nắm bắt thông tin. Format phân chia rõ ràng giữa các phần thông tin.\\n\\nTone (10.0/10.0): Giọng điệu chuyên nghiệp, khách quan và phù hợp với việc cung cấp thông tin về chính sách công ty. Câu trả lời thể hiện sự chính xác và đầy đủ mà không có ngôn từ gây hiểu lầm hay lo lắng.\"}\n",
      "JSON data:\n",
      "{'relevance': 10.0, 'accuracy': 9.0, 'completeness': 10.0, 'clarity': 10.0, 'tone': 10.0, 'comments': 'Relevance (10.0): Câu trả lời hoàn toàn tập trung vào câu hỏi về thời gian làm việc cần thiết để nhận giải thưởng thâm niên. Không có thông tin nào lạc đề.\\n\\nAccuracy (9.0): Câu trả lời chính xác về thời gian 5 năm để nhận giải thưởng thâm niên. Tuy nhiên, câu trả lời chuẩn có đề cập đến việc \"có tính thời gian thuyên chuyển giữa các công ty cùng CMC\" nhưng câu trả lời của agent chỉ đề cập đến việc \"thâm niên kế thừa thời gian làm việc tại CMC TSSG trước khi sáp nhập vào 7/2023\" mà không nói rõ về thuyên chuyển giữa các công ty CMC nói chung.\\n\\nCompleteness (10.0): Câu trả lời không chỉ cung cấp thông tin cơ bản về thời gian 5 năm mà còn bổ sung nhiều chi tiết hữu ích như điều kiện nhận thưởng, mức thưởng, thời gian trao thưởng và các lưu ý quan trọng. Thông tin được trình bày đầy đủ và chi tiết hơn cả câu trả lời chuẩn.\\n\\nClarity (10.0): Câu trả lời được trình bày rất rõ ràng với cấu trúc logic, sử dụng định dạng phù hợp với các đề mục, in đậm các thông tin quan trọng, và phân chia thành các mục nhỏ dễ đọc. Thông tin được tổ chức theo thứ tự hợp lý và dễ hiểu.\\n\\nTone (10.0): Giọng điệu chuyên nghiệp, khách quan và phù hợp với việc cung cấp thông tin chính sách công ty. Câu trả lời mang tính thông tin, không có ngôn từ gây lo lắng hay đẩy trách nhiệm.'}\n",
      "JSON data:\n",
      "{'relevance': 9.5, 'accuracy': 7.0, 'completeness': 8.5, 'clarity': 9.0, 'tone': 9.0, 'comments': 'Relevance (9.5/10): Câu trả lời của agent rất phù hợp với câu hỏi. Agent đã hiểu đúng trọng tâm câu hỏi về việc giải trình khi đi muộn do làm việc tại khách hàng và đưa ra thông tin liên quan trực tiếp đến vấn đề này.\\n\\nAccuracy (7.0/10): Có một số điểm không khớp với câu trả lời chuẩn. Câu trả lời chuẩn nêu rõ \"từ ngày 26/08/2025 sẽ không cần giải trình trước đối với đi khách hàng\", trong khi câu trả lời của agent lại nói \"cần thông báo trước\". Ngoài ra, câu trả lời chuẩn chỉ đề cập đến việc phê duyệt chỉ lên CBQL trực tiếp, trong khi agent nêu quy trình duyệt qua nhiều cấp (QL cấp 1 → QL cấp 2, C&B → Phòng HR).\\n\\nCompleteness (8.5/10): Câu trả lời của agent khá đầy đủ và chi tiết hơn câu trả lời chuẩn. Agent đã cung cấp thông tin về quy trình xử lý, cách giải trình, thời gian giải trình và đường dẫn để thực hiện giải trình trên hệ thống CMIS. Tuy nhiên, thiếu thông tin quan trọng về việc \"từ ngày 26/08/2025 sẽ không cần giải trình trước\".\\n\\nClarity (9.0/10): Câu trả lời được trình bày rất rõ ràng, có cấu trúc logic với các đề mục và phân chia thành các phần riêng biệt. Việc sử dụng định dạng in đậm cho các điểm quan trọng giúp người đọc dễ dàng nắm bắt thông tin chính.\\n\\nTone (9.0/10): Giọng điệu chuyên nghiệp, trung lập và phù hợp với nội dung trả lời. Agent đưa ra thông tin một cách khách quan, không có ngôn từ gây lo lắng hay đẩy trách nhiệm.'}\n",
      "JSON data:\n",
      "{'relevance': 10.0, 'accuracy': 9.0, 'completeness': 10.0, 'clarity': 10.0, 'tone': 10.0, 'comments': 'Relevance (10.0): Câu trả lời hoàn toàn tập trung vào câu hỏi của người dùng về số lần đi muộn được phép của nhân viên kinh doanh. Không có thông tin nào lạc đề hay không liên quan.\\n\\nAccuracy (9.0): Câu trả lời của agent chính xác về thông tin cốt lõi - nhân viên kinh doanh được phép đi muộn/về sớm 10 lần trong tháng. Tuy nhiên, câu trả lời chuẩn có nhấn mạnh thêm \"không được dùng gộp tất cả các lượt trong 1 ngày\" mà agent không đề cập đến, nên không đạt điểm tối đa.\\n\\nCompleteness (10.0): Câu trả lời không chỉ cung cấp thông tin cơ bản như câu trả lời chuẩn mà còn bổ sung nhiều chi tiết hữu ích như: phân loại 2 mức thời gian đi muộn (≤15 phút và ≤2 giờ), so sánh với nhân viên thông thường, và cách xử lý khi vượt quá số lần cho phép. Thông tin rất đầy đủ và chi tiết.\\n\\nClarity (10.0): Câu trả lời được trình bày rõ ràng, có cấu trúc logic với các đề mục, đánh dấu đậm các thông tin quan trọng, và sử dụng format phù hợp (chia ý, xuống dòng, đánh số). Dễ đọc và dễ hiểu.\\n\\nTone (10.0): Giọng điệu chuyên nghiệp, khách quan và phù hợp với vai trò cung cấp thông tin chính sách công ty. Không có ngôn từ gây hiểu lầm hay lo lắng không cần thiết.'}\n",
      "JSON data:\n",
      "{'relevance': 10.0, 'accuracy': 8.0, 'completeness': 10.0, 'clarity': 10.0, 'tone': 10.0, 'comments': \"Relevance (10.0/10.0): Câu trả lời hoàn toàn tập trung vào câu hỏi về chu kỳ đánh giá công việc tháng, cung cấp thông tin chi tiết về thời gian diễn ra chu kỳ đánh giá và các mốc thời gian liên quan.\\n\\nAccuracy (8.0/10.0): Câu trả lời có một số điểm không khớp hoàn toàn với câu trả lời chuẩn. Theo câu trả lời chuẩn, chu kỳ đánh giá công việc tháng được thực hiện từ ngày 25-26 hàng tháng, điều này khớp với phần tổng hợp kết quả trong câu trả lời của agent. Tuy nhiên, agent đề cập đến 'chu trình đề xuất và đánh giá từ ngày 25 tháng trước liền kề đến ngày 24 tháng này' - thông tin này không có trong câu trả lời chuẩn và có thể gây nhầm lẫn.\\n\\nCompleteness (10.0/10.0): Câu trả lời không chỉ cung cấp đầy đủ thông tin từ câu trả lời chuẩn mà còn bổ sung thêm nhiều chi tiết hữu ích về quy trình đánh giá, bao gồm thời gian tự đánh giá của nhân viên, đánh giá của CBQL, tần suất đánh giá và thông tin về hệ thống tự động.\\n\\nClarity (10.0/10.0): Câu trả lời được trình bày rất rõ ràng, có cấu trúc logic với các đề mục và phân chia thành các phần riêng biệt. Việc sử dụng định dạng in đậm cho các mốc thời gian quan trọng giúp người đọc dễ dàng nắm bắt thông tin chính.\\n\\nTone (10.0/10.0): Giọng điệu chuyên nghiệp, khách quan và phù hợp với nội dung thông tin về quy trình đánh giá công việc. Câu trả lời mang tính hướng dẫn, cung cấp thông tin một cách rõ ràng và chính xác.\"}\n",
      "JSON data:\n",
      "{'relevance': 10.0, 'accuracy': 10.0, 'completeness': 10.0, 'clarity': 10.0, 'tone': 10.0, 'comments': 'Relevance (10.0/10.0): Câu trả lời hoàn toàn phù hợp với câu hỏi về thời gian báo trước khi nghỉ việc. Agent đã đi thẳng vào vấn đề và cung cấp thông tin chính xác về thời hạn báo trước theo từng loại hợp đồng.\\n\\nAccuracy (10.0/10.0): Thông tin về thời hạn báo trước hoàn toàn chính xác và khớp với câu trả lời chuẩn: HĐTV - 3 ngày, HĐ có thời hạn - 30 ngày, HĐ không xác định thời hạn - 45 ngày.\\n\\nCompleteness (10.0/10.0): Câu trả lời không chỉ cung cấp đầy đủ thông tin về thời hạn báo trước mà còn bổ sung thêm nhiều thông tin hữu ích như quy trình nghỉ việc, cách tạo đơn trên hệ thống, quy trình phê duyệt và các lưu ý quan trọng. Thông tin bổ sung này rất có giá trị cho người hỏi.\\n\\nClarity (10.0/10.0): Câu trả lời được trình bày rất rõ ràng, có cấu trúc logic với các đề mục, tiêu đề và định dạng in đậm cho các thông tin quan trọng. Việc phân chia thành các mục nhỏ giúp người đọc dễ dàng nắm bắt thông tin.\\n\\nTone (10.0/10.0): Giọng điệu chuyên nghiệp, khách quan và hỗ trợ. Câu trả lời cung cấp thông tin một cách trung lập, không có ngôn từ gây lo lắng hay đẩy trách nhiệm.'}\n",
      "JSON data:\n",
      "{'relevance': 10.0, 'accuracy': 10.0, 'completeness': 10.0, 'clarity': 10.0, 'tone': 10.0, 'comments': 'Relevance (10.0/10.0): Câu trả lời của agent hoàn toàn phù hợp với câu hỏi. Agent đã hiểu đúng yêu cầu của người dùng về việc nhắc lại mốc tính thưởng thâm niên đã được đề cập trước đó.\\n\\nAccuracy (10.0/10.0): Thông tin trong câu trả lời của agent hoàn toàn chính xác và khớp với câu trả lời chuẩn. Agent đã nêu rõ mốc tính thưởng thâm niên được tính từ thời điểm ký HĐLĐ chính thức đầu tiên đến ngày sinh nhật của CTS (10/04).\\n\\nCompleteness (10.0/10.0): Câu trả lời của agent không chỉ cung cấp đầy đủ thông tin như trong câu trả lời chuẩn mà còn bổ sung thêm nhiều thông tin hữu ích khác như điều kiện cơ bản (tối thiểu 5 năm làm việc), các thời gian được tính và không được tính vào thâm niên, điều kiện bổ sung và mức thưởng. Những thông tin này giúp người dùng hiểu rõ hơn về chính sách thưởng thâm niên.\\n\\nClarity (10.0/10.0): Câu trả lời được trình bày rất rõ ràng, có cấu trúc logic với các đề mục và phân loại thông tin hợp lý. Agent sử dụng định dạng đánh đậm cho các điểm quan trọng, giúp người đọc dễ dàng nắm bắt thông tin chính.\\n\\nTone (10.0/10.0): Giọng điệu của câu trả lời mang tính chuyên nghiệp, khách quan và phù hợp với nội dung về chính sách công ty. Cách trình bày thông tin rõ ràng, chính xác thể hiện sự tôn trọng đối với người dùng.'}\n",
      "JSON data:\n",
      "{'relevance': 10.0, 'accuracy': 0.0, 'completeness': 7.0, 'clarity': 9.0, 'tone': 9.0, 'comments': 'Relevance (10.0/10.0): Câu trả lời hoàn toàn tập trung vào vấn đề chính của câu hỏi - liệu người nghỉ việc ngày 18/8 có phải làm đánh giá công việc tháng 8 không. Agent đã đưa ra câu trả lời trực tiếp và giải thích chi tiết về lý do.\\n\\nAccuracy (0.0/10.0): Câu trả lời của agent hoàn toàn sai so với câu trả lời chuẩn. Agent nói rằng người dùng KHÔNG cần phải làm đánh giá công việc tháng 8, trong khi câu trả lời chuẩn khẳng định người dùng CÓ phải làm đánh giá. Agent hiểu sai về chu kỳ đánh giá và đưa ra kết luận ngược lại với thông tin chính xác.\\n\\nCompleteness (7.0/10.0): Câu trả lời cung cấp nhiều thông tin về chu kỳ công việc tháng, chu trình đánh giá và có kết luận rõ ràng. Tuy nhiên, do hiểu sai về chu kỳ đánh giá nên thông tin không đầy đủ và chính xác. Agent có cung cấp thông tin bổ sung về quy định đánh giá, nhưng áp dụng sai vào trường hợp này.\\n\\nClarity (9.0/10.0): Câu trả lời được trình bày rất rõ ràng, có cấu trúc logic với các đề mục rõ ràng (Lý do, Chu kỳ công việc tháng, Chu trình đánh giá, Kết luận). Sử dụng định dạng in đậm để nhấn mạnh các thông tin quan trọng, giúp người đọc dễ dàng nắm bắt thông tin.\\n\\nTone (9.0/10.0): Giọng điệu chuyên nghiệp, khách quan và hỗ trợ. Agent trình bày thông tin một cách tự tin, rõ ràng và không gây lo lắng không cần thiết. Cách diễn đạt phù hợp với ngữ cảnh công việc và hành chính.'}\n",
      "JSON data:\n",
      "{'relevance': 10.0, 'accuracy': 10.0, 'completeness': 10.0, 'clarity': 10.0, 'tone': 10.0, 'comments': 'Relevance (10.0/10.0): Câu trả lời hoàn toàn tập trung vào câu hỏi về công thức tính hệ số công việc tháng, không có thông tin lạc đề hay không liên quan.\\n\\nAccuracy (10.0/10.0): Câu trả lời cung cấp chính xác công thức %ht = ∑ Xi*Ki và bảng quy đổi tỷ lệ hoàn thành thành hệ số công việc đúng với câu trả lời chuẩn. Các mức xếp loại A, B, C, D và tỷ lệ tương ứng đều chính xác.\\n\\nCompleteness (10.0/10.0): Câu trả lời không chỉ cung cấp đầy đủ thông tin như trong câu trả lời chuẩn mà còn bổ sung thêm nhiều chi tiết hữu ích như giải thích rõ các thành phần trong công thức, ví dụ minh họa cụ thể cho xếp hạng D, và các lưu ý về nội dung đánh giá.\\n\\nClarity (10.0/10.0): Câu trả lời được trình bày rất rõ ràng, có cấu trúc logic với các đề mục, bảng biểu, và định dạng in đậm cho các thông tin quan trọng. Việc sử dụng bảng để hiển thị quy đổi tỷ lệ hoàn thành thành hệ số công việc giúp người đọc dễ dàng nắm bắt thông tin.\\n\\nTone (10.0/10.0): Giọng điệu chuyên nghiệp, khách quan và phù hợp với nội dung kỹ thuật về công thức tính toán. Cách trình bày thể hiện sự chính xác và rõ ràng mà không có ngôn từ gây nhầm lẫn hay không phù hợp.'}\n",
      "JSON data:\n",
      "{'relevance': 10.0, 'accuracy': 8.0, 'completeness': 10.0, 'clarity': 10.0, 'tone': 10.0, 'comments': 'Relevance (10.0/10.0): Câu trả lời hoàn toàn tập trung vào quy định đi muộn dành cho nhân viên kinh doanh, đúng với yêu cầu của người dùng. Không có thông tin lạc đề hay không liên quan.\\n\\nAccuracy (8.0/10.0): Câu trả lời có đề cập đến thông tin chính xác về việc nhân viên kinh doanh được tổng cộng 10 lần đi muộn/về sớm trong tháng như trong câu trả lời chuẩn. Tuy nhiên, câu trả lời của agent có thêm chi tiết về việc chia thành 5 lần ≤15 phút và 5 lần ≤2 giờ, điều này không được đề cập trong câu trả lời chuẩn. Ngoài ra, câu trả lời chuẩn có nhắc đến việc \"không được dùng gộp tất cả các lượt trong 1 ngày\" nhưng agent không đề cập đến điểm này.\\n\\nCompleteness (10.0/10.0): Câu trả lời không chỉ cung cấp thông tin cơ bản về số lần đi muộn được phép mà còn bổ sung nhiều thông tin hữu ích khác như: quy trình khi đi khách hàng, cách thức giải trình trên hệ thống, so sánh với nhân viên thông thường. Thông tin được trình bày đầy đủ, chi tiết và có tính thực tiễn cao.\\n\\nClarity (10.0/10.0): Câu trả lời được trình bày rất rõ ràng với cấu trúc logic. Agent đã sử dụng định dạng phù hợp với các đề mục, in đậm các điểm quan trọng, và phân chia thành các phần rõ ràng giúp người đọc dễ dàng nắm bắt thông tin.\\n\\nTone (10.0/10.0): Giọng điệu chuyên nghiệp, khách quan và phù hợp với nội dung về quy định công ty. Câu trả lời mang tính hướng dẫn, cung cấp thông tin một cách rõ ràng và không có ngôn từ gây hiểu lầm hay lo lắng không cần thiết.'}\n",
      "JSON data:\n",
      "{'relevance': 10.0, 'accuracy': 9.0, 'completeness': 10.0, 'clarity': 10.0, 'tone': 10.0, 'comments': 'Relevance (10.0/10.0): Câu trả lời hoàn toàn tập trung vào vấn đề trễ hạn đánh giá tháng và hậu quả của việc này, đúng trọng tâm câu hỏi của người dùng.\\n\\nAccuracy (9.0/10.0): Câu trả lời của agent chính xác về nội dung chính - kết quả đánh giá bị ghi nhận là 0% và không được tính lương hiệu suất. Tuy nhiên, agent không đề cập đến việc có thể bị áp dụng hình thức xử lý kỷ luật như trong câu trả lời chuẩn. Điểm trừ nhẹ vì thiếu thông tin này.\\n\\nCompleteness (10.0/10.0): Câu trả lời không chỉ cung cấp đầy đủ thông tin cơ bản về hậu quả của việc trễ hạn, mà còn bổ sung chi tiết về quy trình đánh giá, thời hạn cụ thể cho từng bước, và lưu ý quan trọng. Thông tin bổ sung này rất hữu ích cho người dùng để hiểu rõ toàn bộ quy trình và tránh trễ hạn.\\n\\nClarity (10.0/10.0): Câu trả lời được trình bày rất rõ ràng, có cấu trúc logic với các đề mục, in đậm các điểm quan trọng, và phân chia thành các phần dễ theo dõi. Format sử dụng rất phù hợp, giúp người đọc dễ dàng nắm bắt thông tin.\\n\\nTone (10.0/10.0): Giọng điệu chuyên nghiệp, khách quan và hỗ trợ. Agent cung cấp thông tin một cách trung lập, không đổ lỗi hay gây áp lực, đồng thời kết thúc bằng khuyến nghị hữu ích để người dùng tránh gặp vấn đề.'}\n",
      "JSON data:\n",
      "{'relevance': 10.0, 'accuracy': 7.0, 'completeness': 9.5, 'clarity': 10.0, 'tone': 10.0, 'comments': 'Relevance (10.0/10.0): Câu trả lời hoàn toàn tập trung vào chủ đề chính sách thâm niên 5 năm, đúng trọng tâm câu hỏi. Agent đã cung cấp thông tin chi tiết về chính sách này mà không đi lạc đề.\\n\\nAccuracy (7.0/10.0): Câu trả lời có một số điểm không khớp với câu trả lời chuẩn. Theo câu trả lời chuẩn, thời gian làm việc tại các công ty CMC khác được tính vào thâm niên (\"có tính thời gian thuyên chuyển giữa các công ty CMC\"), nhưng câu trả lời của agent lại nói \"Thời gian làm việc tại các Công ty khác trong Tập đoàn\" không được tính thâm niên. Ngoài ra, câu trả lời chuẩn có đề cập đến việc \"được cộng thêm 1 phép sau 5 năm\" nhưng agent không nhắc đến điểm này.\\n\\nCompleteness (9.5/10.0): Câu trả lời của agent rất đầy đủ và chi tiết, thậm chí còn cung cấp nhiều thông tin bổ sung hữu ích ngoài câu trả lời chuẩn như: mức thưởng cụ thể (2-3 triệu VND/người), thời gian tổ chức (trong kỳ Teambuilding), quy trình tổ chức, và các điều kiện bổ sung. Tuy nhiên, thiếu thông tin về việc \"được cộng thêm 1 phép sau 5 năm\" như trong câu trả lời chuẩn.\\n\\nClarity (10.0/10.0): Câu trả lời được trình bày rất rõ ràng, có cấu trúc logic với các mục được phân chia rõ ràng (đối tượng áp dụng, thời gian không được tính thâm niên, điều kiện bổ sung, mức thưởng, thời gian tổ chức). Việc sử dụng định dạng đậm cho các điểm quan trọng giúp người đọc dễ dàng nắm bắt thông tin.\\n\\nTone (10.0/10.0): Giọng điệu chuyên nghiệp, khách quan và phù hợp với nội dung về chính sách nhân sự. Câu trả lời mang tính thông tin, không có ngôn từ gây lo lắng hay đẩy trách nhiệm.'}\n"
     ]
    }
   ],
   "source": [
    "zep_evaluate_results = []\n",
    "for question, true_answer, zep_agent_answer in zip(questions, true_answers, zep_agent_answers):\n",
    "    evaluate_human_prompt = evaluate_human_prompt_template.format(\n",
    "            question=question,\n",
    "            true_answer=true_answer,\n",
    "            agent_answer=zep_agent_answer\n",
    "        )\n",
    "        \n",
    "    payload = {\n",
    "        \"question\": \"Đánh giá câu trả lời từ agent so với câu trả lời chuẩn (true_answer)\",\n",
    "        \"overrideConfig\": {\n",
    "                \"systemMessagePrompt\": evaluate_system_prompt,\n",
    "                \"humanMessagePrompt\": evaluate_human_prompt\n",
    "            }\n",
    "    }\n",
    "\n",
    "    response = query(payload)\n",
    "    zep_evaluate_results.append(extract_section(response))\n",
    "\n"
   ]
  },
  {
   "cell_type": "code",
   "execution_count": 81,
   "metadata": {},
   "outputs": [
    {
     "name": "stdout",
     "output_type": "stream",
     "text": [
      "JSON data:\n",
      "{'relevance': 10.0, 'accuracy': 10.0, 'completeness': 10.0, 'clarity': 10.0, 'tone': 10.0, 'comments': 'Relevance (Mức độ phù hợp): 10.0/10.0\\nCâu trả lời của agent hoàn toàn phù hợp với câu hỏi về thời điểm tính thâm niên. Agent đã trả lời đúng trọng tâm câu hỏi và không đưa ra thông tin lạc đề.\\n\\nAccuracy (Độ chính xác): 10.0/10.0\\nThông tin trong câu trả lời của agent hoàn toàn chính xác so với câu trả lời chuẩn. Agent đã nêu rõ thâm niên được tính từ thời điểm ký HĐLĐ chính thức đầu tiên, không tính hợp đồng thử việc.\\n\\nCompleteness (Đầy đủ, rõ ràng): 10.0/10.0\\nCâu trả lời không chỉ cung cấp thông tin cơ bản như câu trả lời chuẩn mà còn bổ sung nhiều thông tin hữu ích khác như: thâm niên kế thừa, các trường hợp không được tính thâm niên, và ứng dụng của thâm niên trong chính sách công ty. Thông tin bổ sung này rất có giá trị cho người hỏi.\\n\\nClarity (Rõ ràng, trình bày hợp lý): 10.0/10.0\\nCâu trả lời được trình bày rất rõ ràng với cấu trúc logic, sử dụng định dạng đánh dấu (bold) cho các điểm chính và gạch đầu dòng để liệt kê các thông tin quan trọng. Điều này giúp người đọc dễ dàng nắm bắt thông tin.\\n\\nTone (Giọng điệu phù hợp): 10.0/10.0\\nGiọng điệu chuyên nghiệp, khách quan và phù hợp với nội dung về chính sách công ty. Câu trả lời mang tính thông tin, không có ngôn từ gây hiểu lầm hay lo lắng không cần thiết.'}\n",
      "JSON data:\n",
      "{'relevance': 10.0, 'accuracy': 7.0, 'completeness': 9.5, 'clarity': 10.0, 'tone': 10.0, 'comments': 'Relevance (10.0/10.0): Câu trả lời hoàn toàn tập trung vào câu hỏi về điều kiện nhận giải thưởng thâm niên, không có thông tin lạc đề hay không liên quan.\\n\\nAccuracy (7.0/10.0): Câu trả lời của agent có điểm không khớp với câu trả lời chuẩn. Agent chỉ đề cập đến làm việc liên tục tại Công ty (CMC TS) mà không nhắc đến việc tính thời gian thuyên chuyển giữa các công ty cùng CMC như trong câu trả lời chuẩn. Đây là một thiếu sót quan trọng về tính chính xác.\\n\\nCompleteness (9.5/10.0): Câu trả lời rất đầy đủ và chi tiết, thậm chí cung cấp nhiều thông tin bổ sung hữu ích ngoài câu trả lời chuẩn như: mức thưởng (2-3 triệu VND bằng hiện vật), thời gian vinh danh (trong Teambuilding hàng năm), và các điều kiện khác (không vi phạm kỷ luật). Tuy nhiên, thiếu thông tin về việc tính thời gian thuyên chuyển giữa các công ty cùng CMC.\\n\\nClarity (10.0/10.0): Câu trả lời được trình bày rất rõ ràng, có cấu trúc logic với các đề mục được in đậm, sử dụng gạch đầu dòng để liệt kê các điểm quan trọng, giúp người đọc dễ dàng nắm bắt thông tin.\\n\\nTone (10.0/10.0): Giọng điệu chuyên nghiệp, thân thiện và hỗ trợ. Kết thúc bằng câu khẳng định ngắn gọn, rõ ràng và thân thiện \"Như vậy, bạn sẽ được nhận giải thưởng thâm niên khi làm việc đủ 5 năm tại CMC TS!\" tạo cảm giác gần gũi với người dùng.'}\n",
      "JSON data:\n",
      "{'relevance': 9.0, 'accuracy': 5.0, 'completeness': 8.0, 'clarity': 9.5, 'tone': 9.0, 'comments': 'Relevance (9.0): Câu trả lời rất phù hợp với câu hỏi của người dùng về việc có cần giải trình trước khi đi muộn do làm việc tại khách hàng hay không. Agent đã tập trung vào đúng vấn đề người dùng quan tâm.\\n\\nAccuracy (5.0): Câu trả lời của agent có sai sót nghiêm trọng so với câu trả lời chuẩn. Theo câu trả lời chuẩn, từ ngày 26/08/2025 sẽ KHÔNG cần giải trình trước đối với đi khách hàng, nhưng agent lại nói rằng cần phê duyệt trước khi đi khách hàng. Điều này hoàn toàn trái ngược với thông tin trong câu trả lời chuẩn.\\n\\nCompleteness (8.0): Câu trả lời cung cấp khá đầy đủ thông tin về quy trình giải trình, thời hạn (2 ngày), và quy trình phê duyệt (chỉ lên CBQL trực tiếp theo câu trả lời chuẩn, nhưng agent nêu chi tiết hơn về quy trình phê duyệt). Agent cũng bổ sung thêm thông tin về hệ thống CMIS và hậu quả nếu không giải trình đúng thời hạn.\\n\\nClarity (9.5): Câu trả lời được trình bày rất rõ ràng, có cấu trúc logic với các đề mục được in đậm, sử dụng gạch đầu dòng để liệt kê các bước, giúp người đọc dễ dàng nắm bắt thông tin. Format rất chuyên nghiệp và dễ theo dõi.\\n\\nTone (9.0): Giọng điệu chuyên nghiệp, hỗ trợ và thân thiện. Agent sử dụng ngôn từ rõ ràng, trực tiếp nhưng vẫn lịch sự. Kết thúc bằng lời nhắc nhở hữu ích cho người dùng.'}\n",
      "JSON data:\n",
      "{'relevance': 10.0, 'accuracy': 8.0, 'completeness': 9.5, 'clarity': 10.0, 'tone': 10.0, 'comments': 'Relevance (10.0/10.0): Câu trả lời hoàn toàn tập trung vào câu hỏi của người dùng về số lần được phép đi muộn trong tháng dành cho nhân viên kinh doanh. Không có thông tin nào lạc đề.\\n\\nAccuracy (8.0/10.0): Câu trả lời đúng về số lượng tổng cộng 10 lần đi muộn/về sớm trong tháng cho cán bộ kinh doanh. Tuy nhiên, câu trả lời chuẩn không đề cập đến việc chia thành 5 lần ≤15 phút và 5 lần ≤2 giờ, cũng như các quy định về trừ công và sử dụng phép năm/nghỉ bù. Điểm bị trừ vì có thêm thông tin không được xác nhận trong câu trả lời chuẩn.\\n\\nCompleteness (9.5/10.0): Câu trả lời rất đầy đủ, không chỉ cung cấp thông tin về số lần được phép đi muộn mà còn chi tiết về các mức thời gian, quy định trừ công và cách bù trừ. Câu trả lời còn giải thích lý do tại sao cán bộ kinh doanh được hưởng chế độ đặc biệt này. Thông tin bổ sung rất hữu ích cho người dùng.\\n\\nClarity (10.0/10.0): Câu trả lời được trình bày rất rõ ràng, có cấu trúc logic với các đề mục, in đậm các thông tin quan trọng, và sử dụng gạch đầu dòng để dễ đọc. Thông tin được phân chia thành các phần rõ ràng giúp người đọc dễ dàng nắm bắt.\\n\\nTone (10.0/10.0): Giọng điệu chuyên nghiệp, thân thiện và hỗ trợ. Câu trả lời sử dụng ngôn từ tích cực, trực tiếp gọi người dùng là \"bạn\" tạo cảm giác gần gũi, và kết thúc bằng câu tóm tắt ngắn gọn, rõ ràng.'}\n",
      "JSON data:\n",
      "{'relevance': 10.0, 'accuracy': 7.0, 'completeness': 9.5, 'clarity': 10.0, 'tone': 10.0, 'comments': 'Relevance (10.0): Câu trả lời hoàn toàn tập trung vào câu hỏi về chu kỳ đánh giá công việc tháng, cung cấp thông tin chi tiết về thời gian và quy trình đánh giá.\\n\\nAccuracy (7.0): Có một số điểm không khớp với câu trả lời chuẩn. Câu trả lời chuẩn nói chu kỳ đánh giá từ 25-26 hàng tháng và chu kỳ công việc từ ngày 20 tháng trước đến 19 tháng hiện tại. Trong khi đó, agent nói chu kỳ công việc từ ngày 20 tháng này đến 19 tháng kế tiếp và chu trình đề xuất từ 25 tháng trước đến 24 tháng này. Đây là sự khác biệt đáng kể về thời gian.\\n\\nCompleteness (9.5): Câu trả lời rất đầy đủ, thậm chí cung cấp nhiều thông tin bổ sung hữu ích ngoài câu trả lời chuẩn như thời gian cụ thể cho từng bước (tự đánh giá, CBQL đánh giá, tổng hợp kết quả) và lưu ý về các tháng có chu trình khác.\\n\\nClarity (10.0): Trình bày rất rõ ràng, có cấu trúc logic với các đề mục được in đậm, sử dụng gạch đầu dòng để phân tách các thông tin, giúp người đọc dễ dàng nắm bắt.\\n\\nTone (10.0): Giọng điệu chuyên nghiệp, thân thiện và hỗ trợ. Kết thúc bằng lời nhắc nhở hữu ích cho người dùng về việc cần tự đánh giá từ ngày 20 và hoàn thành trong 2-3 ngày.'}\n",
      "JSON data:\n",
      "{'relevance': 10.0, 'accuracy': 10.0, 'completeness': 10.0, 'clarity': 10.0, 'tone': 10.0, 'comments': 'Relevance (10.0/10.0): Câu trả lời hoàn toàn phù hợp với câu hỏi về thời gian báo trước khi nghỉ việc. Agent đã trả lời đúng trọng tâm và không đưa ra thông tin lạc đề.\\n\\nAccuracy (10.0/10.0): Thông tin về thời hạn báo trước khi nghỉ việc hoàn toàn chính xác so với câu trả lời chuẩn. Agent đã nêu đúng thời gian báo trước cho từng loại hợp đồng: HĐTV (3 ngày), HĐ có thời hạn (30 ngày), HĐ không xác định thời hạn (45 ngày).\\n\\nCompleteness (10.0/10.0): Câu trả lời không chỉ cung cấp đầy đủ thông tin về thời hạn báo trước theo yêu cầu mà còn bổ sung thêm quy trình thực hiện việc xin nghỉ (tạo đơn trên SF4C, các bước phê duyệt) và lưu ý quan trọng về hậu quả của việc không tuân thủ thời hạn báo trước. Những thông tin bổ sung này rất hữu ích cho người hỏi.\\n\\nClarity (10.0/10.0): Câu trả lời được trình bày rất rõ ràng, có cấu trúc logic với các đề mục được in đậm, sử dụng gạch đầu dòng để liệt kê các điểm quan trọng. Format này giúp người đọc dễ dàng nắm bắt thông tin cần thiết.\\n\\nTone (10.0/10.0): Giọng điệu chuyên nghiệp, thân thiện và hỗ trợ. Câu trả lời kết thúc với lời nhắc nhở hữu ích và thân thiện, thể hiện sự quan tâm đến người hỏi.'}\n",
      "JSON data:\n",
      "{'relevance': 10.0, 'accuracy': 10.0, 'completeness': 10.0, 'clarity': 10.0, 'tone': 10.0, 'comments': 'Relevance (Mức độ phù hợp): 10.0/10.0\\nCâu trả lời của agent hoàn toàn phù hợp với câu hỏi. Agent đã trả lời đúng trọng tâm về mốc tính thưởng thâm niên mà người dùng đã hỏi, không có thông tin lan man hay lạc đề.\\n\\nAccuracy (Độ chính xác): 10.0/10.0\\nThông tin trong câu trả lời của agent hoàn toàn chính xác so với câu trả lời chuẩn. Agent đã nêu đúng rằng mốc tính thưởng thâm niên được tính từ thời điểm ký HĐLĐ chính thức đầu tiên đến ngày sinh nhật của CTS (10/04).\\n\\nCompleteness (Đầy đủ, rõ ràng): 10.0/10.0\\nCâu trả lời của agent không chỉ cung cấp đầy đủ thông tin như trong câu trả lời chuẩn mà còn bổ sung thêm nhiều thông tin hữu ích khác như điều kiện nhận thưởng (5 năm thâm niên), mức thưởng (2-3 triệu VND), thời gian vinh danh (Teambuilding hàng năm) và các điều kiện khác. Thông tin được trình bày chi tiết và đầy đủ.\\n\\nClarity (Rõ ràng, trình bày hợp lý): 10.0/10.0\\nCâu trả lời được trình bày rất rõ ràng với cấu trúc logic, sử dụng format dạng bullet points giúp người đọc dễ dàng nắm bắt thông tin. Các điểm quan trọng được in đậm để nhấn mạnh. Cách trình bày này giúp người dùng dễ dàng hiểu và ghi nhớ thông tin.\\n\\nTone (Giọng điệu phù hợp): 10.0/10.0\\nGiọng điệu của câu trả lời rất chuyên nghiệp, thân thiện và hỗ trợ. Câu kết thúc \"Vậy bạn sẽ được nhận giải thưởng thâm niên khi làm việc đủ 5 năm tại CMC TS!\" thể hiện sự thân thiện và khích lệ người dùng.'}\n",
      "JSON data:\n",
      "{'relevance': 10.0, 'accuracy': 0.0, 'completeness': 7.0, 'clarity': 9.0, 'tone': 9.0, 'comments': 'Relevance (10.0/10.0): Câu trả lời hoàn toàn tập trung vào vấn đề chính là liệu người nghỉ việc ngày 18/8 có cần làm đánh giá công việc tháng 8 không. Không có thông tin lan man hay lạc đề.\\n\\nAccuracy (0.0/10.0): Câu trả lời của agent hoàn toàn sai so với câu trả lời chuẩn. Agent nói rằng người dùng KHÔNG cần làm đánh giá công việc tháng 8, trong khi câu trả lời chuẩn khẳng định người dùng CÓ phải làm đánh giá. Đây là sai sót nghiêm trọng về nội dung chính của câu trả lời.\\n\\nCompleteness (7.0/10.0): Câu trả lời cung cấp đầy đủ thông tin về chu kỳ đánh giá tháng 8 (20/7-19/8), thời điểm tự đánh giá (20/9) và có giải thích lý do. Tuy nhiên, do kết luận sai nên thông tin về việc phải làm đánh giá không đúng, dẫn đến thiếu hướng dẫn về cách thực hiện đánh giá trước khi nghỉ việc.\\n\\nClarity (9.0/10.0): Câu trả lời được trình bày rất rõ ràng, có cấu trúc logic với các đề mục được in đậm, chia thành các phần rõ ràng (chu kỳ công việc, ngày nghỉ việc, thời gian đánh giá, kết luận). Format dễ đọc và dễ hiểu.\\n\\nTone (9.0/10.0): Giọng điệu chuyên nghiệp, khách quan và thông tin. Câu trả lời sử dụng ngôn ngữ rõ ràng, tự tin và có thêm phần lưu ý về việc tính lương tháng 8 để giúp người dùng hiểu rõ hơn.'}\n",
      "JSON data:\n",
      "{'relevance': 10.0, 'accuracy': 8.0, 'completeness': 10.0, 'clarity': 10.0, 'tone': 10.0, 'comments': 'Relevance (10.0): Câu trả lời hoàn toàn tập trung vào câu hỏi về công thức tính hệ số công việc tháng, không có thông tin lạc đề.\\n\\nAccuracy (8.0): Câu trả lời cung cấp công thức %ht = ∑ Xi*Ki chính xác. Tuy nhiên, có một sai sót nhỏ trong phần quy đổi loại D: câu trả lời chuẩn nói rằng với loại D (<70%), Hscv = %ht (không làm tròn), nhưng câu trả lời của agent có thêm phần làm tròn và ví dụ không chính xác (%ht = 65% thì Hscv = 70%; %ht = 64% thì Hscv = 60%).\\n\\nCompleteness (10.0): Câu trả lời cung cấp đầy đủ thông tin về công thức tính hệ số công việc tháng, giải thích rõ các thành phần trong công thức, và bảng quy đổi tỷ lệ hoàn thành thành hệ số công việc. Thậm chí còn bổ sung thêm thông tin về mục đích sử dụng hệ số này (tính thưởng đánh giá tháng).\\n\\nClarity (10.0): Câu trả lời được trình bày rất rõ ràng, có cấu trúc logic với các đề mục, định dạng in đậm cho các thông tin quan trọng, và sắp xếp thành từng phần dễ đọc. Công thức và bảng quy đổi được trình bày rõ ràng.\\n\\nTone (10.0): Giọng điệu chuyên nghiệp, khách quan và phù hợp với nội dung kỹ thuật về công thức tính toán. Cách diễn đạt rõ ràng, tự tin và hữu ích.'}\n",
      "JSON data:\n",
      "{'relevance': 9.0, 'accuracy': 5.0, 'completeness': 5.0, 'clarity': 9.5, 'tone': 9.0, 'comments': 'Relevance (9.0): Câu trả lời tập trung đúng vào chủ đề quy định đi muộn cho nhân viên kinh doanh, đúng với yêu cầu của người dùng về việc nhắc lại quy định đã thảo luận.\\n\\nAccuracy (5.0): Câu trả lời của agent có sai lệch đáng kể so với câu trả lời chuẩn. Câu trả lời chuẩn chỉ đề cập đến việc cán bộ kinh doanh được tổng cộng 10 lần đi muộn/về sớm trong tháng và không được dùng gộp tất cả các lượt trong 1 ngày. Tuy nhiên, agent đã thêm nhiều thông tin không có trong câu trả lời chuẩn như chia thành 5 lần ≤15 phút và 5 lần ≤2 giờ, quy định về trừ công từ lần thứ 6, sử dụng phép năm hoặc nghỉ bù, v.v.\\n\\nCompleteness (5.0): Câu trả lời có đầy đủ thông tin cơ bản từ câu trả lời chuẩn về số lần đi muộn/về sớm được phép (10 lần/tháng), nhưng thiếu thông tin quan trọng về việc \"không được dùng gộp tất cả các lượt trong 1 ngày\". Đồng thời, agent đã thêm nhiều thông tin chi tiết không có trong câu trả lời chuẩn mà không có cơ sở xác nhận.\\n\\nClarity (9.5): Câu trả lời được trình bày rất rõ ràng, có cấu trúc logic với các đề mục, in đậm các điểm quan trọng, và phân chia thành các phần dễ đọc. Format sử dụng bullet points giúp người đọc dễ dàng nắm bắt thông tin.\\n\\nTone (9.0): Giọng điệu chuyên nghiệp, thân thiện và hỗ trợ. Câu kết thúc \"Vậy với tư cách nhân viên kinh doanh, bạn có tổng cộng 10 lần/tháng được phép đi muộn/về sớm với 2 mức thời gian khác nhau!\" thể hiện sự thân thiện và hỗ trợ.'}\n",
      "JSON data:\n",
      "{'relevance': 10.0, 'accuracy': 7.0, 'completeness': 8.0, 'clarity': 10.0, 'tone': 9.0, 'comments': 'Relevance (10.0/10.0): Câu trả lời hoàn toàn tập trung vào vấn đề trễ hạn đánh giá tháng và hậu quả của việc này, đúng trọng tâm câu hỏi mà không có thông tin lạc đề.\\n\\nAccuracy (7.0/10.0): Câu trả lời đúng về việc kết quả đánh giá bị ghi nhận là 0% khi trễ hạn. Tuy nhiên, thiếu thông tin quan trọng về việc \"không được tính lương hiệu suất cho tháng đó\" và \"có thể bị áp dụng hình thức xử lý kỷ luật\" như trong câu trả lời chuẩn. Thay vào đó, agent chỉ đề cập đến \"ảnh hưởng đến thu nhập tháng\" mà không nêu rõ về lương hiệu suất và hình thức kỷ luật.\\n\\nCompleteness (8.0/10.0): Câu trả lời cung cấp thông tin khá đầy đủ về hậu quả của việc trễ hạn đánh giá và còn bổ sung thêm thông tin hữu ích về thời hạn đánh giá, quy trình xử lý. Tuy nhiên, thiếu thông tin về hình thức xử lý kỷ luật có thể được áp dụng như trong câu trả lời chuẩn.\\n\\nClarity (10.0/10.0): Câu trả lời được trình bày rất rõ ràng, có cấu trúc logic với các đề mục được in đậm, sử dụng bullet points để phân chia các ý chính, giúp người đọc dễ dàng nắm bắt thông tin.\\n\\nTone (9.0/10.0): Giọng điệu chuyên nghiệp, thân thiện và hỗ trợ. Câu kết thúc \"Vậy nên bạn tuyệt đối không được trễ hạn đánh giá tháng để tránh mất thưởng nhé!\" thể hiện sự quan tâm đến người dùng. Tuy nhiên, cách dùng từ \"tuyệt đối không được\" có thể hơi cứng nhắc.'}\n",
      "JSON data:\n",
      "{'relevance': 9.0, 'accuracy': 6.0, 'completeness': 8.0, 'clarity': 10.0, 'tone': 9.5, 'comments': 'Relevance (9.0): Câu trả lời tập trung vào chính sách thâm niên 5 năm, đúng với yêu cầu của câu hỏi. Nội dung trả lời hoàn toàn liên quan đến chủ đề được hỏi.\\n\\nAccuracy (6.0): Câu trả lời có một số điểm chính xác như thời điểm tính thâm niên (từ HĐLĐ chính thức đầu tiên), mốc tính đến sinh nhật CTS (10/04). Tuy nhiên, có một số thông tin không khớp với câu trả lời chuẩn: không đề cập đến việc tính thời gian thuyên chuyển giữa các công ty CMC và không nhắc đến quyền lợi được cộng thêm 1 ngày phép sau 5 năm. Thay vào đó, câu trả lời đề cập đến mức thưởng bằng hiện vật từ 2-3 triệu đồng không có trong câu trả lời chuẩn.\\n\\nCompleteness (8.0): Câu trả lời cung cấp nhiều thông tin chi tiết về chính sách thâm niên 5 năm, bao gồm điều kiện nhận thưởng, mức thưởng và thời gian tổ chức. Tuy nhiên, thiếu thông tin quan trọng về việc được cộng thêm 1 ngày phép sau 5 năm như trong câu trả lời chuẩn. Câu trả lời có bổ sung thêm nhiều thông tin hữu ích về điều kiện nhận thưởng và hình thức tổ chức.\\n\\nClarity (10.0): Câu trả lời được trình bày rất rõ ràng, có cấu trúc logic với các đề mục được phân chia hợp lý (Điều kiện nhận thưởng, Mức thưởng, Thời gian tổ chức). Sử dụng định dạng in đậm để nhấn mạnh các điểm quan trọng, giúp người đọc dễ dàng nắm bắt thông tin.\\n\\nTone (9.5): Giọng điệu chuyên nghiệp, rõ ràng và phù hợp với nội dung thông tin chính sách nhân sự. Câu kết thể hiện sự trân trọng đối với nhân viên gắn bó lâu dài, tạo cảm giác tích cực.'}\n"
     ]
    }
   ],
   "source": [
    "default_evaluate_results = []\n",
    "for question, true_answer, default_agent_answer in zip(questions, true_answers, default_agent_answers):\n",
    "    evaluate_human_prompt = evaluate_human_prompt_template.format(\n",
    "            question=question,\n",
    "            true_answer=true_answer,\n",
    "            agent_answer=default_agent_answer\n",
    "        )\n",
    "        \n",
    "    payload = {\n",
    "        \"question\": \"Đánh giá câu trả lời từ agent so với câu trả lời chuẩn (true_answer)\",\n",
    "        \"overrideConfig\": {\n",
    "                \"systemMessagePrompt\": evaluate_system_prompt,\n",
    "                \"humanMessagePrompt\": evaluate_human_prompt\n",
    "            }\n",
    "    }\n",
    "\n",
    "    response = query(payload)\n",
    "    default_evaluate_results.append(extract_section(response))\n",
    "\n"
   ]
  },
  {
   "cell_type": "code",
   "execution_count": 85,
   "metadata": {},
   "outputs": [
    {
     "data": {
      "text/plain": [
       "{'scores': {'relevance': 10.0,\n",
       "  'accuracy': 10.0,\n",
       "  'completeness': 10.0,\n",
       "  'clarity': 10.0,\n",
       "  'tone': 10.0,\n",
       "  'average': 10.0},\n",
       " 'comments': \"Relevance (10.0/10.0): Câu trả lời hoàn toàn phù hợp với câu hỏi về chính sách thâm niên. Agent đã trả lời đúng trọng tâm câu hỏi về thời điểm bắt đầu tính thâm niên.\\n\\nAccuracy (10.0/10.0): Thông tin trong câu trả lời của agent hoàn toàn chính xác và khớp với câu trả lời chuẩn. Agent đã nêu rõ 'thâm niên được tính từ thời điểm ký Hợp đồng lao động chính thức đầu tiên'.\\n\\nCompleteness (10.0/10.0): Câu trả lời không chỉ cung cấp thông tin cơ bản như câu trả lời chuẩn mà còn bổ sung nhiều thông tin hữu ích khác như: chi tiết về cách tính thâm niên, thời gian không được tính vào thâm niên, và ví dụ minh họa cụ thể. Những thông tin bổ sung này rất có giá trị cho người hỏi.\\n\\nClarity (10.0/10.0): Câu trả lời được trình bày rất rõ ràng, có cấu trúc logic với các đề mục và gạch đầu dòng, giúp người đọc dễ dàng nắm bắt thông tin. Format phân chia rõ ràng giữa các phần thông tin.\\n\\nTone (10.0/10.0): Giọng điệu chuyên nghiệp, khách quan và phù hợp với việc cung cấp thông tin về chính sách công ty. Câu trả lời thể hiện sự chính xác và đầy đủ mà không có ngôn từ gây hiểu lầm hay lo lắng.\"}"
      ]
     },
     "execution_count": 85,
     "metadata": {},
     "output_type": "execute_result"
    }
   ],
   "source": [
    "zep_evaluate_results[0]"
   ]
  },
  {
   "cell_type": "code",
   "execution_count": null,
   "metadata": {},
   "outputs": [],
   "source": [
    "zep_scores_df = pd.DataFrame({\n",
    "    \"Relevance\": [score[\"scores\"][\"relevance\"] for score in zep_evaluate_results],\n",
    "    \"Accuracy\": [score[\"scores\"][\"accuracy\"] for score in zep_evaluate_results],\n",
    "    \"Completeness\": [score[\"scores\"][\"completeness\"] for score in zep_evaluate_results],\n",
    "    \"Clarity\": [score[\"scores\"][\"clarity\"] for score in zep_evaluate_results],\n",
    "    \"Tone\": [score[\"scores\"][\"tone\"] for score in zep_evaluate_results]}\n",
    ")\n",
    "\n",
    "zep_scores_df.to_excel(\"zep_scores.xlsx\", sheet_name=\"Zep memory\", index=False)\n",
    "\n",
    "default_scores_df = pd.DataFrame({\n",
    "    \"Relevance\": [score[\"scores\"][\"relevance\"] for score in default_evaluate_results],\n",
    "    \"Accuracy\": [score[\"scores\"][\"accuracy\"] for score in default_evaluate_results],\n",
    "    \"Completeness\": [score[\"scores\"][\"completeness\"] for score in default_evaluate_results],\n",
    "    \"Clarity\": [score[\"scores\"][\"clarity\"] for score in default_evaluate_results],\n",
    "    \"Tone\": [score[\"scores\"][\"tone\"] for score in default_evaluate_results]}\n",
    ")\n",
    "\n",
    "default_scores_df.to_excel(\"scores.xlsx\", sheet_name=\"Default memory\", index=False)"
   ]
  },
  {
   "cell_type": "code",
   "execution_count": 88,
   "metadata": {},
   "outputs": [],
   "source": [
    "import pickle\n",
    "with open(\"zep_evaluate_results.pkl\", \"wb\") as f:\n",
    "    pickle.dump(zep_evaluate_results, f)\n",
    "    \n",
    "with open(\"default_evaluate_results.pkl\", \"wb\") as f:\n",
    "    pickle.dump(default_evaluate_results, f)\n",
    "    \n"
   ]
  }
 ],
 "metadata": {
  "kernelspec": {
   "display_name": "cagent",
   "language": "python",
   "name": "python3"
  },
  "language_info": {
   "codemirror_mode": {
    "name": "ipython",
    "version": 3
   },
   "file_extension": ".py",
   "mimetype": "text/x-python",
   "name": "python",
   "nbconvert_exporter": "python",
   "pygments_lexer": "ipython3",
   "version": "3.10.18"
  }
 },
 "nbformat": 4,
 "nbformat_minor": 2
}
